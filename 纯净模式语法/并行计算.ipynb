{
 "cells": [
  {
   "cell_type": "markdown",
   "id": "3fa9daf6-3b3f-4ebe-a376-b6b8e2245f2c",
   "metadata": {},
   "source": [
    "### 并行计算\n",
    "\n",
    "cython中当然可以正常使用多进程多线程和协程,但至少目前由于gil的限制这条技术路线是无法高效的利用多核的.Cython提供了对解放gil的支持,同时可以借助openmp提供的c级别多线程能力真正做到充分利用多核."
   ]
  }
 ],
 "metadata": {
  "kernelspec": {
   "display_name": "Python 3 (ipykernel)",
   "language": "python",
   "name": "python3"
  },
  "language_info": {
   "codemirror_mode": {
    "name": "ipython",
    "version": 3
   },
   "file_extension": ".py",
   "mimetype": "text/x-python",
   "name": "python",
   "nbconvert_exporter": "python",
   "pygments_lexer": "ipython3",
   "version": "3.10.12"
  }
 },
 "nbformat": 4,
 "nbformat_minor": 5
}
