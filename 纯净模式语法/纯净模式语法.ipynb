{
 "cells": [
  {
   "cell_type": "markdown",
   "id": "017b2601-9c82-4338-811d-2afcf2e08b0b",
   "metadata": {},
   "source": [
    "# 纯净模式语法\n",
    "\n",
    "所谓的纯净模式就是cython直接编译`.py`文件的模式.纯净模式完全满足python语法,就是python代码.\n",
    "\n",
    "在某些情况下,我们希望加速Python代码而不失去与Python解释器一起运行的能力则可以使用这种语法.事实上直接使用Cython编译未经优化的纯Python脚本就可以提升20％-50％的执行速度;在这基础上加上类型注释,特定编译装饰器又可以进一步提升性能.如果一些关键函数再提供C/C++版本的实现就又可以进一步提升性能.因此纯净模式语法适合需要渐进式优化的项目."
   ]
  },
  {
   "cell_type": "markdown",
   "id": "9a72cb77-687d-42b3-a84d-b9f3f5766890",
   "metadata": {},
   "source": [
    "## python部分\n",
    "\n",
    "纯净模式的python部分就是python代码,什么都不通用该,"
   ]
  },
  {
   "cell_type": "markdown",
   "id": "4998816b-4a11-4399-a5dd-73edb58edb2a",
   "metadata": {},
   "source": [
    "### 变量静态声明"
   ]
  },
  {
   "cell_type": "markdown",
   "id": "6a4cc920-ffa8-48f2-82b4-4af4401c8c8d",
   "metadata": {},
   "source": [
    "### 函数声明"
   ]
  },
  {
   "cell_type": "code",
   "execution_count": null,
   "id": "a7885f26-da6d-4fe9-8143-1307361f769c",
   "metadata": {},
   "outputs": [],
   "source": []
  },
  {
   "cell_type": "markdown",
   "id": "9a36ec96-5dd1-4a30-85b8-06e46ac09f3d",
   "metadata": {},
   "source": [
    "## C部分"
   ]
  },
  {
   "cell_type": "markdown",
   "id": "6aaf095d-a397-4db9-bfea-cf0201bc57fb",
   "metadata": {},
   "source": [
    "### 变量静态声明"
   ]
  },
  {
   "cell_type": "markdown",
   "id": "ac2aebcb-692e-4954-b96c-40f6adebc1af",
   "metadata": {},
   "source": [
    "### 函数声明"
   ]
  },
  {
   "cell_type": "markdown",
   "id": "7d4c5d45-6e5c-4405-8aaf-60579be8a1ba",
   "metadata": {},
   "source": [
    "### 扩展类型"
   ]
  },
  {
   "cell_type": "markdown",
   "id": "89d7a103-44ef-4a87-998d-dd2821eee03e",
   "metadata": {},
   "source": [
    "### 调用外部C库"
   ]
  }
 ],
 "metadata": {
  "kernelspec": {
   "display_name": "Python 3 (ipykernel)",
   "language": "python",
   "name": "python3"
  },
  "language_info": {
   "codemirror_mode": {
    "name": "ipython",
    "version": 3
   },
   "file_extension": ".py",
   "mimetype": "text/x-python",
   "name": "python",
   "nbconvert_exporter": "python",
   "pygments_lexer": "ipython3",
   "version": "3.10.12"
  }
 },
 "nbformat": 4,
 "nbformat_minor": 5
}
