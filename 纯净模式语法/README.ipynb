{
 "cells": [
  {
   "cell_type": "markdown",
   "metadata": {},
   "source": [
    "# 纯净模式语法\n",
    "\n",
    "纯净模式语法就是python语法,不同之处是cython提供了多个装饰器和`typehints`类型用于在`cython`编译时将对应位置作为对应的Cython语法中的单元处理.\n",
    "\n",
    "纯净模式最大好处是python解释器可以直接处理,缺点是功能并未能覆盖cython语法的全部.\n",
    "\n",
    "本文仅介绍实现部分的纯净模式语法,声明部分建议还是使用cython语法,我们会统一介绍.\n",
    "\n",
    "纯净模式下通过装饰器和`typehints`类型增加的内容包括:\n",
    "\n",
    "+ C对象实现部分\n",
    "    + C/C++变量类型声明\n",
    "    + C自定义结构声明\n",
    "    + Cython提供的运算符\n",
    "    + C函数声明\n",
    "    + 底层内存的调用和管理\n",
    "    \n",
    "+ python对象部分\n",
    "    + 静态化变量和参数\n",
    "    + 扩展类型\n",
    "\n",
    "+ 导入依赖\n",
    "+ 并行计算\n",
    "+ 内存调用和管理\n",
    "\n",
    "需要注意:\n",
    "\n",
    "1. Cython基本可以覆盖C语言的所有语法,但并不能覆盖C++的语法,除了stl外基本只能支持包装外部库.\n",
    "2. 本文中以`*`开头的章节在纯净模式下无法使用,以`+`开头的章节为部分功能在纯净模式下无法使用,请参考对应的cython语法部分章节\n",
    "\n",
    "## 识别模块是否编译\n",
    "\n",
    "纯净模式下由于python解释器可以直接处理,这就造成了我们可能无法判别使用的模块是否有被编译.可以使用cyhton库判断.\n",
    "\n",
    "```python\n",
    "import cython\n",
    "\n",
    "if cython.compiled:\n",
    "    print(\"Yep, I'm compiled.\")\n",
    "    \n",
    "else:\n",
    "    print(\"Just a lowly interpreted script.\")\n",
    "```"
   ]
  },
  {
   "cell_type": "code",
   "execution_count": null,
   "metadata": {},
   "outputs": [],
   "source": []
  }
 ],
 "metadata": {
  "kernelspec": {
   "display_name": "Python 3 (ipykernel)",
   "language": "python",
   "name": "python3"
  },
  "language_info": {
   "codemirror_mode": {
    "name": "ipython",
    "version": 3
   },
   "file_extension": ".py",
   "mimetype": "text/x-python",
   "name": "python",
   "nbconvert_exporter": "python",
   "pygments_lexer": "ipython3",
   "version": "3.10.12"
  }
 },
 "nbformat": 4,
 "nbformat_minor": 4
}
