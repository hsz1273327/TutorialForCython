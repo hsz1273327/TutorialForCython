{
 "cells": [
  {
   "cell_type": "markdown",
   "metadata": {},
   "source": [
    "# Python对象部分\n",
    "\n",
    "python对象部分负责和python解释器对接,也就是针对python的接口.\n",
    "\n",
    "接口的种类无非不过:\n",
    "\n",
    "+ 全局变量\n",
    "+ 函数\n",
    "+ 类\n",
    "\n",
    "这三种.\n",
    "\n",
    "下面我们就来分别讨论这三种接口在Cython中的实现."
   ]
  },
  {
   "cell_type": "code",
   "execution_count": 1,
   "metadata": {
    "tags": []
   },
   "outputs": [],
   "source": [
    "%load_ext Cython"
   ]
  },
  {
   "cell_type": "markdown",
   "metadata": {},
   "source": [
    "## 全局变量\n",
    "\n",
    "全局变量接口必须是Python类型,也就是说不要用`cdef`申明,否则python解释器无法捕获.\n",
    "\n",
    "```cython\n",
    "cdef int a = 10 # python解释器无法识别\n",
    "\n",
    "b = 11 # python解释器可以正常识别\n",
    "```\n",
    "\n",
    "当然了你用`cdef object b = 11`也是可以的,但有点啰嗦, 个人更推荐用python的type hints声明python类型,这样接口更加明确:\n",
    "\n",
    "```cython\n",
    "b: int = 11 # python解释器可以正常识别\n",
    "```"
   ]
  },
  {
   "cell_type": "markdown",
   "metadata": {},
   "source": [
    "## 函数接口\n",
    "\n",
    "函数接口的传入参数和返回值自然是python对象,在这一前提下,Cython允许通过改造内部来实现直接对python对象部分进行加速.\n",
    "\n",
    "python对象部分的核心也就在于如何在函数/类内部尽可能的使用C/C++对象."
   ]
  },
  {
   "cell_type": "code",
   "execution_count": 2,
   "metadata": {
    "tags": []
   },
   "outputs": [
    {
     "name": "stdout",
     "output_type": "stream",
     "text": [
      "3\n"
     ]
    }
   ],
   "source": [
    "%%cython\n",
    "# distutils: extra_compile_args=-Wno-unreachable-code\n",
    "\n",
    "def func1(a:int,b:int)->int:\n",
    "    cdef int a_c = a\n",
    "    cdef int b_c = b\n",
    "    cdef int result_c = a + b\n",
    "    cdef object result = result_c\n",
    "    return result\n",
    "\n",
    "print(func1(1,2))"
   ]
  },
  {
   "cell_type": "markdown",
   "metadata": {},
   "source": [
    "### 静态化参数\n",
    "\n",
    "我们还可以通过指定函数接口的参数类型让Cython对传入的参数进行自动转化.这可以大幅提高这个函数的执行效率.还是上面的例子,我们可以简化成如下"
   ]
  },
  {
   "cell_type": "code",
   "execution_count": 3,
   "metadata": {
    "tags": []
   },
   "outputs": [],
   "source": [
    "%%cython\n",
    "# distutils: extra_compile_args=-Wno-unreachable-code\n",
    "\n",
    "def func1(int a,int b):\n",
    "    return a+b"
   ]
  },
  {
   "cell_type": "code",
   "execution_count": 4,
   "metadata": {
    "tags": []
   },
   "outputs": [
    {
     "data": {
      "text/plain": [
       "3"
      ]
     },
     "execution_count": 4,
     "metadata": {},
     "output_type": "execute_result"
    }
   ],
   "source": [
    "func1(1,2)"
   ]
  },
  {
   "cell_type": "markdown",
   "metadata": {},
   "source": [
    "### 类型自动转换\n",
    "\n",
    "除了函数出入的参数,返回值,内部的赋值都可以进行自动类型转换.这一特性也是Cython的基础特性.\n",
    "\n",
    "在大多数情况下,Python对象和C/C++值之间需要转换时,cython会对基本的数字和字符串类型等执行自动转换,对应表如下\n",
    "\n",
    "从Python中来的类型|C中的类型|转入到Python中的类型\n",
    "---|---|---\n",
    "`bool`|`bint`|bool\n",
    "`int`|`[unsigned] char`,`[unsigned] short`,`int`,`long`,`unsigned int`,`unsigned long`,`[unsigned] long long`|`int`\n",
    "`float`|`float`,`double`,`long double`|`float`\n",
    "`bytes`|`char*`,`libcpp.string`|`bytes`\n",
    "`iterable`|`C array`,`std::vector`,`std::list`|`list`\n",
    "`iterable`|`std::set`,`std::unordered_set`|`set`\n",
    "`iterable (len 2)`|`std::pair`|`tuple (len 2)`\n",
    "`mapping`|`std::map`,`std::unordered_map`|`dict`\n",
    "`complex`|`std::complex`|`complex`\n",
    "---|`struct`, `union`|`dict`\n",
    "`numpy.dnarray`|内存视图|---\n",
    "` array.array`|内存视图|---\n",
    "\n",
    "需要注意:\n",
    "\n",
    "1. 如果定义C/C++类型为`C array`,`std::vector`,`std::list`,`std::set`,`std::unordered_set`则输入和输出是同构容器\n",
    "2. 如果定义C/C++类型为`C array`,在传入后Cython是无法知道序列长度的\n",
    "3. 如果定义C/C++类型为`struct`, `union`,python无法向C中传递结构\n",
    "4. python中的int是无限长的,但C/C++中对应的都是有长度限制的,就需要注意防止溢出.我们需要在使用时先预估好整型数的长度再确定申明的类型\n",
    "5. 内存视图的返回类型需要自己指定,对于python部分的输出来说,通常使用`numpy.asarray(mv)`来转成`numpy.dnarray`作为返回值."
   ]
  },
  {
   "cell_type": "markdown",
   "metadata": {},
   "source": [
    "### Python和C都可调用的函数\n",
    "\n",
    "如果我们希望定义一个函数在C和Python中都可以调用,那可以使用`cpdef`.`cpdef`定义的函数性能在python函数和C函数之间.\n",
    "\n",
    "当你使用`cpdef`关键字定义一个函数或方法时`Cython`编译器会生成两个版本的函数代码:\n",
    "\n",
    "+ 一个是C的版本,当在C部分调用时Cython会调用生成的C版本,这样性能更好;\n",
    "+ 一个是Python的版本,当在Python部分调用时Cython会调用生成的Python版本,这样就获得了python部分的可见性\n",
    "\n",
    "也正是由于多了一层判断自然就带来了复杂性,同时性能也就不及纯C函数了.\n",
    "\n",
    "使用`cpdef`定义函数的语法是python定义函数和定义C函数语法的结合:\n",
    "\n",
    "`cpdef 返回值类型 函数名(形参类型 形参,...)`\n",
    "\n",
    "与定义C函数语法不同的是我们并不需要考虑异常标志量的问题."
   ]
  },
  {
   "cell_type": "code",
   "execution_count": 5,
   "metadata": {
    "tags": []
   },
   "outputs": [
    {
     "name": "stdout",
     "output_type": "stream",
     "text": [
      "3\n"
     ]
    }
   ],
   "source": [
    "%%cython\n",
    "# distutils: extra_compile_args=-Wno-unreachable-code\n",
    "\n",
    "cpdef int func2(int a,int b):\n",
    "    return a + b\n",
    "\n",
    "print(func2(1,2))"
   ]
  },
  {
   "cell_type": "code",
   "execution_count": 6,
   "metadata": {
    "tags": []
   },
   "outputs": [
    {
     "data": {
      "text/plain": [
       "7"
      ]
     },
     "execution_count": 6,
     "metadata": {},
     "output_type": "execute_result"
    }
   ],
   "source": [
    "func2(3,4)"
   ]
  },
  {
   "cell_type": "markdown",
   "metadata": {},
   "source": [
    "## 扩展类型\n",
    "\n",
    "Cython并不能直接定义C++中的类,但可以使用扩展类型为Python类提供扩展.方法就是在python定义类的`class`关键字前面增加`cdef`.\n",
    "\n",
    "一个典型的扩展类型如下"
   ]
  },
  {
   "cell_type": "code",
   "execution_count": 7,
   "metadata": {
    "tags": []
   },
   "outputs": [],
   "source": [
    "%%cython\n",
    "# distutils: extra_compile_args=-Wno-unreachable-code\n",
    "\n",
    "cdef class Rectangle:\n",
    "    cdef public int x0\n",
    "    cdef readonly int y0\n",
    "    cdef int x1, y1\n",
    "    \n",
    "    \n",
    "    def __init__(self, int x0, int y0, int x1, int y1):\n",
    "        self.x0 = x0\n",
    "        self.y0 = y0\n",
    "        self.x1 = x1\n",
    "        self.y1 = y1\n",
    "        \n",
    "    cdef int _area(self):\n",
    "        cdef int area\n",
    "        area = (self.x1 - self.x0) * (self.y1 - self.y0)\n",
    "        if area < 0:\n",
    "            area = -area\n",
    "        return area\n",
    "\n",
    "    def area(self):\n",
    "        return self._area()"
   ]
  },
  {
   "cell_type": "code",
   "execution_count": 8,
   "metadata": {
    "tags": []
   },
   "outputs": [
    {
     "data": {
      "text/plain": [
       "1"
      ]
     },
     "execution_count": 8,
     "metadata": {},
     "output_type": "execute_result"
    }
   ],
   "source": [
    "rect = Rectangle(0, 0, 1, 1)\n",
    "rect.area()"
   ]
  },
  {
   "cell_type": "markdown",
   "metadata": {},
   "source": [
    "我们在扩展类型中可以通过`cdef`声明C属性和C方法;也可以像正常在Python中一样定义普通的属性和方法;也可以用`cpdef`定义Python中和C中都支持的方法."
   ]
  },
  {
   "cell_type": "markdown",
   "metadata": {},
   "source": [
    "### 属性\n",
    "\n",
    "Cython的扩展类型中需要使用`cdef`声明的属性,属性必须指定静态类型.属性默认是私有的无法被Python解释器识别.我们可以使用限定词`public`或`readonly`来为其提供可见性.\n",
    "\n",
    "上面例子中我们演示了Cython中属性的所有声明情况\n",
    "\n",
    "+ `readonly`可以让字段被Python解释器识别,且会进行自动类型转换,但其中的数据是只读的\n",
    "+ `public`可以让字段被Python解释器识别,且会进行自动类型转换,我们可以随意读取和改变其中的值\n",
    "\n",
    "\n",
    "就像上面的例子\n",
    "\n",
    "```cython\n",
    "cdef class Rectangle:\n",
    "    cdef public int x0\n",
    "    cdef readonly int y0\n",
    "    cdef int x1, y1\n",
    "    \n",
    "    ...\n",
    "```"
   ]
  },
  {
   "cell_type": "code",
   "execution_count": 9,
   "metadata": {
    "tags": []
   },
   "outputs": [
    {
     "name": "stdout",
     "output_type": "stream",
     "text": [
      "0\n",
      "0\n"
     ]
    },
    {
     "ename": "AttributeError",
     "evalue": "'_cython_magic_0aa36d6c75715ab458200afa6f9716cf569d' object has no attribute 'x1'",
     "output_type": "error",
     "traceback": [
      "\u001b[0;31m---------------------------------------------------------------------------\u001b[0m",
      "\u001b[0;31mAttributeError\u001b[0m                            Traceback (most recent call last)",
      "Cell \u001b[0;32mIn[9], line 3\u001b[0m\n\u001b[1;32m      1\u001b[0m \u001b[38;5;28mprint\u001b[39m(rect\u001b[38;5;241m.\u001b[39mx0)\n\u001b[1;32m      2\u001b[0m \u001b[38;5;28mprint\u001b[39m(rect\u001b[38;5;241m.\u001b[39my0)\n\u001b[0;32m----> 3\u001b[0m \u001b[38;5;28mprint\u001b[39m(\u001b[43mrect\u001b[49m\u001b[38;5;241;43m.\u001b[39;49m\u001b[43mx1\u001b[49m)\n",
      "\u001b[0;31mAttributeError\u001b[0m: '_cython_magic_0aa36d6c75715ab458200afa6f9716cf569d' object has no attribute 'x1'"
     ]
    }
   ],
   "source": [
    "print(rect.x0)\n",
    "print(rect.y0)\n",
    "print(rect.x1)"
   ]
  },
  {
   "cell_type": "code",
   "execution_count": 10,
   "metadata": {
    "tags": []
   },
   "outputs": [
    {
     "name": "stdout",
     "output_type": "stream",
     "text": [
      "1\n"
     ]
    }
   ],
   "source": [
    "rect.x0 = 1\n",
    "print(rect.x0)"
   ]
  },
  {
   "cell_type": "markdown",
   "metadata": {},
   "source": [
    "### 属性动态化\n",
    "\n",
    "扩展类型中定义属性都是静态的,如果我们希望可以像python类一样可以动态的增加属性,我们可以在其中声明`cdef dict __dict__`"
   ]
  },
  {
   "cell_type": "code",
   "execution_count": 11,
   "metadata": {
    "tags": []
   },
   "outputs": [],
   "source": [
    "%%cython\n",
    "# distutils: extra_compile_args=-Wno-unreachable-code\n",
    "\n",
    "\n",
    "cdef class A:\n",
    "    cdef int n\n",
    "\n",
    "    def __init__(self, int n):\n",
    "        self.n = n\n",
    "\n",
    "\n",
    "cdef class B:\n",
    "    cdef int n\n",
    "    cdef dict __dict__\n",
    "\n",
    "    def __init__(self, int n):\n",
    "        self.n = n\n",
    "\n",
    "        "
   ]
  },
  {
   "cell_type": "code",
   "execution_count": 12,
   "metadata": {
    "tags": []
   },
   "outputs": [
    {
     "ename": "AttributeError",
     "evalue": "'_cython_magic_62ce1ee846ad62a0242e1c1ddbb13961bbb05c9c.A' object has no attribute 'o'",
     "output_type": "error",
     "traceback": [
      "\u001b[0;31m---------------------------------------------------------------------------\u001b[0m",
      "\u001b[0;31mAttributeError\u001b[0m                            Traceback (most recent call last)",
      "Cell \u001b[0;32mIn[12], line 2\u001b[0m\n\u001b[1;32m      1\u001b[0m a \u001b[38;5;241m=\u001b[39m A(\u001b[38;5;241m10\u001b[39m)\n\u001b[0;32m----> 2\u001b[0m \u001b[43ma\u001b[49m\u001b[38;5;241;43m.\u001b[39;49m\u001b[43mo\u001b[49m \u001b[38;5;241m=\u001b[39m \u001b[38;5;241m1\u001b[39m\n",
      "\u001b[0;31mAttributeError\u001b[0m: '_cython_magic_62ce1ee846ad62a0242e1c1ddbb13961bbb05c9c.A' object has no attribute 'o'"
     ]
    }
   ],
   "source": [
    "a = A(10)\n",
    "a.o = 1"
   ]
  },
  {
   "cell_type": "code",
   "execution_count": 13,
   "metadata": {
    "tags": []
   },
   "outputs": [
    {
     "name": "stdout",
     "output_type": "stream",
     "text": [
      "1\n"
     ]
    }
   ],
   "source": [
    "b = B(10)\n",
    "b.o = 1\n",
    "print(b.o)"
   ]
  },
  {
   "cell_type": "markdown",
   "metadata": {},
   "source": [
    "### 方法\n",
    "\n",
    "扩展类型的方法分C方法和Python方法.和函数的规则一样--C方法性能高但Python解释器无法识别;Python方法性能低些但对Python解释器可见;还有使用`cpdef`定义的方法性能介于C方法和Python方法之间,同时提供对Python解释器的可见性.\n",
    "\n",
    "方法的定义语法也和函数基本一致,只是有如下几个注意点:\n",
    "\n",
    "+ 支持静态方法`@staticmethod`但**不支持类方法`@classmethod`**\n",
    "+ 静态方法`@staticmethod`通常不会是C方法\n",
    "\n",
    "上例中`_area`是C级别的函数,不可被python解释器访问,而`area`则是Python函数,上面的例子中我们实际上用`area`封装了C方法`_area`.这么写没啥问题但比较啰嗦,更多的时候这种简单封装的写法会用`cpdef`方法来替代"
   ]
  },
  {
   "cell_type": "code",
   "execution_count": 14,
   "metadata": {
    "tags": []
   },
   "outputs": [],
   "source": [
    "%%cython\n",
    "# distutils: extra_compile_args=-Wno-unreachable-code\n",
    "\n",
    "\n",
    "cdef class Rectangle2:\n",
    "    cdef public int x0\n",
    "    cdef readonly int y0\n",
    "    cdef int x1, y1\n",
    "    \n",
    "    \n",
    "    def __init__(self, int x0, int y0, int x1, int y1):\n",
    "        self.x0 = x0\n",
    "        self.y0 = y0\n",
    "        self.x1 = x1\n",
    "        self.y1 = y1\n",
    "        \n",
    "    cpdef int area(self):\n",
    "        cdef int area\n",
    "        area = (self.x1 - self.x0) * (self.y1 - self.y0)\n",
    "        if area < 0:\n",
    "            area = -area\n",
    "        return area\n"
   ]
  },
  {
   "cell_type": "code",
   "execution_count": 15,
   "metadata": {
    "tags": []
   },
   "outputs": [],
   "source": [
    "r = Rectangle2(1, 2, 3, 1)"
   ]
  },
  {
   "cell_type": "markdown",
   "metadata": {},
   "source": [
    "### 特性\n",
    "\n",
    "python中的特性本质上还是函数,扩展类型中依然支持,只是必须使用Python函数定义\n",
    "\n",
    "```cython\n",
    "\n",
    "cdef class Spam:\n",
    "    ...\n",
    "    @property\n",
    "    def cheese(self):\n",
    "        # 只读\n",
    "        ...\n",
    "\n",
    "    @cheese.setter\n",
    "    def cheese(self, value):\n",
    "        # 可写\n",
    "        ...\n",
    "\n",
    "    @cheese.deleter\n",
    "    def cheese(self):\n",
    "        # 可删\n",
    "        ...\n",
    "    ...\n",
    "```\n",
    "\n",
    "除了上面这种装饰器语法外,Cython的扩展类型允许使用一种声明式的语法来等价的定义属性.\n",
    "\n",
    "```cython\n",
    "cdef class Spam:\n",
    "    ...\n",
    "    property cheese:\n",
    "\n",
    "        \"A doc string can go here.\"\n",
    "\n",
    "        def __get__(self):\n",
    "            # 只读\n",
    "            ...\n",
    "\n",
    "        def __set__(self, value):\n",
    "            # 可写\n",
    "            ...\n",
    "\n",
    "        def __del__(self):\n",
    "            # 可删\n",
    "            ...\n",
    "    ...\n",
    "```\n",
    "\n",
    "`__get__()`，`__set__()`和`__del__()`方法都是可选的.如果省略，属性访问会引发异常.\n",
    "\n",
    "\n",
    "两种写法完全等价,第二种相对更加结构化便于维护.推荐在`.pyx`文件中使用第二种写法,在纯净模式的`.py`文件中使用第一种."
   ]
  },
  {
   "cell_type": "markdown",
   "metadata": {},
   "source": [
    "### 初始化和实例化\n",
    "\n",
    "我们知道Python中一个类实例化的过程是\n",
    "\n",
    "1. 类方法`__new__`方法被调用,执行分配内存并返回一个实例的操作\n",
    "2. 实例方法`__init__`被调用,执行实例的初始化.\n",
    "\n",
    "Cython中额外定义了特殊方法`__cinit__`用于处理C级别的初始化.它的执行位置在`__new__`和`__init__`之间,且参数和传入当前实例`__init__`的参数完全一致.也就是说扩展类型及其子类的实例化过程是这样\n",
    "\n",
    "1. 类方法`__new__`方法被调用,执行分配内存并返回一个实例的操作\n",
    "2. 实例方法`__cinit__`被调用,执行实例的C部分初始化.\n",
    "3. 实例方法`__init__`被调用,执行实例的初始化.\n",
    "\n",
    "\n",
    "需要注意:\n",
    "\n",
    "+ `__cinit__`被执行时实例已经创建且被赋了初值--C属性已初始化为`0`或`null`,Python属性也被初始化为`None`.\n",
    "+ 无论什么情况`__cinit__`都只会被执行一次,且只要被定义了就会被执行.\n",
    "\n",
    "在无继承的情况下并不复杂,但如果存在继承,我们就需要注意执行顺序了.\n",
    "\n",
    "下面这个例子可以清晰的看到执行顺序"
   ]
  },
  {
   "cell_type": "code",
   "execution_count": 16,
   "metadata": {
    "tags": []
   },
   "outputs": [],
   "source": [
    "%%cython\n",
    "# distutils: extra_compile_args=-Wno-unreachable-code\n",
    "\n",
    "\n",
    "cdef class A:\n",
    "    cdef public int x0\n",
    "    cdef readonly int y0\n",
    "    cdef int x1, y1\n",
    "    \n",
    "    \n",
    "    def __init__(self, int x0, int y0, int x1, int y1):\n",
    "        self.x0 = x0\n",
    "        self.y0 = y0\n",
    "        self.x1 = x1\n",
    "        self.y1 = y1\n",
    "        print(f\"A init {x0} {x1} {y0} {y1}\")\n",
    "        \n",
    "    def __cinit__(self,*args,**kwargs):\n",
    "        print(f\"A cinit args {args} and kwargs {kwargs}\")\n",
    "\n",
    "cdef class AA(A):\n",
    "    \n",
    "    def __init__(self, int x0, int y0, int x1, int y1):\n",
    "        print(f\"AA init {x0} {x1} {y0} {y1}\")\n",
    "        super().__init__( x0+1 , y0+ 1, x1+1, y1+1)\n",
    "        \n",
    "    def __cinit__(self,*args,**kwargs):\n",
    "        print(f\"AA cinit args {args} and kwargs {kwargs}\")\n",
    "        \n",
    "class B(A):\n",
    "    def __init__(self, x0:int , y0:int, x1:int, y1: int):\n",
    "        print(f\"B init {x0} {x1} {y0} {y1}\")\n",
    "        super().__init__( x0+1 , y0+ 1, x1+1, y1+1)\n",
    "        "
   ]
  },
  {
   "cell_type": "code",
   "execution_count": 17,
   "metadata": {
    "tags": []
   },
   "outputs": [
    {
     "name": "stdout",
     "output_type": "stream",
     "text": [
      "A cinit args (1, 2, 3, 4) and kwargs {}\n",
      "A init 1 3 2 4\n"
     ]
    }
   ],
   "source": [
    "a = A(1,2,3,4)"
   ]
  },
  {
   "cell_type": "code",
   "execution_count": 18,
   "metadata": {
    "tags": []
   },
   "outputs": [
    {
     "name": "stdout",
     "output_type": "stream",
     "text": [
      "A cinit args (1, 2, 3, 4) and kwargs {}\n",
      "AA cinit args (1, 2, 3, 4) and kwargs {}\n",
      "AA init 1 3 2 4\n",
      "A init 2 4 3 5\n"
     ]
    }
   ],
   "source": [
    "aa = AA(1,2,3,4)"
   ]
  },
  {
   "cell_type": "code",
   "execution_count": 19,
   "metadata": {
    "tags": []
   },
   "outputs": [
    {
     "name": "stdout",
     "output_type": "stream",
     "text": [
      "A cinit args (1, 2, 3, 4) and kwargs {}\n",
      "B init 1 3 2 4\n",
      "A init 2 4 3 5\n"
     ]
    }
   ],
   "source": [
    "b = B(1,2,3,4)"
   ]
  },
  {
   "cell_type": "markdown",
   "metadata": {},
   "source": [
    "在有继承的情况下我们可以总结为如下执行顺序:\n",
    "\n",
    "1. 类方法`__new__`方法被调用,执行分配内存并返回一个实例的操作\n",
    "2. 实例方法`__cinit__`被调用,执行实例的C部分初始化.实例会按父类->子类的顺序执行各级`__cinit__`.\n",
    "3. 实例方法`__init__`被调用,执行实例的初始化.实例根据是否有`super().__init__`调用按子类->父类的顺序执行各级`__init__`,规则和python中一致."
   ]
  },
  {
   "cell_type": "markdown",
   "metadata": {},
   "source": [
    "#### 快速实例化\n",
    "\n",
    "在特殊的使用场景下提高Cython扩炸类型实例化的性能有两种方法:\n",
    "\n",
    "+ 忽略执行`__init__`直接实例化.\n",
    "    + 使用条件:\n",
    "        1. 扩展类型并没有python部分需要初始化\n",
    "\n",
    "    因为Cython提供了`__cinit__`方法来初始化C部分,如果我们的扩展类型并没有python部分需要初始化那就可以忽略执行`__init__`直接实例化,这种实例化可以直接调用特殊静态方法`__new__(扩展类型,初始化参数...)`来实现."
   ]
  },
  {
   "cell_type": "code",
   "execution_count": 20,
   "metadata": {
    "tags": []
   },
   "outputs": [],
   "source": [
    "%%cython\n",
    "# distutils: extra_compile_args=-Wno-unreachable-code\n",
    "\n",
    "\n",
    "cdef class Penguin:\n",
    "    cdef public object food\n",
    " \n",
    "    def __cinit__(self, food):\n",
    "        self.food = food\n",
    "        print(\"ciniting!\")\n",
    " \n",
    "    def __init__(self, food):\n",
    "        print(\"initing!\")"
   ]
  },
  {
   "cell_type": "code",
   "execution_count": 21,
   "metadata": {
    "tags": []
   },
   "outputs": [
    {
     "name": "stdout",
     "output_type": "stream",
     "text": [
      "ciniting!\n",
      "initing!\n"
     ]
    }
   ],
   "source": [
    "penguin = Penguin(\"wheat\") # 正常实例化"
   ]
  },
  {
   "cell_type": "code",
   "execution_count": 22,
   "metadata": {
    "tags": []
   },
   "outputs": [
    {
     "name": "stdout",
     "output_type": "stream",
     "text": [
      "ciniting!\n"
     ]
    }
   ],
   "source": [
    "fast_penguin = Penguin.__new__(Penguin, 'wheat') # 快速实例化"
   ]
  },
  {
   "cell_type": "markdown",
   "metadata": {},
   "source": [
    "+ 尽可能的避免内存分配\n",
    "\n",
    "    + 使用条件: \n",
    "        1. 存在的实例数量可控\n",
    "        2. 仅基类无继承\n",
    "    \n",
    "    可以使用装饰器`@cython.freelist(N)`为被装饰的扩展类型创建一个由N个实例组成的静态内存列表,由于内存已经被分配好了因此可以尽可能避免了代价高昂的分配步骤.在合适的场景中，这可以将对象实例化速度提高20-30%.\n"
   ]
  },
  {
   "cell_type": "code",
   "execution_count": 23,
   "metadata": {
    "tags": []
   },
   "outputs": [],
   "source": [
    "%%cython\n",
    "# distutils: extra_compile_args=-Wno-unreachable-code\n",
    "cimport cython\n",
    " \n",
    "@cython.freelist(2)\n",
    "cdef class Penguin:\n",
    "    cdef object food\n",
    "    def __cinit__(self, food):\n",
    "        self.food = food\n",
    "        print(\"ciniting!\")\n",
    " \n",
    "    def __init__(self, food):\n",
    "        print(\"initing!\")"
   ]
  },
  {
   "cell_type": "code",
   "execution_count": 24,
   "metadata": {
    "tags": []
   },
   "outputs": [
    {
     "name": "stdout",
     "output_type": "stream",
     "text": [
      "ciniting!\n",
      "initing!\n",
      "ciniting!\n",
      "initing!\n"
     ]
    }
   ],
   "source": [
    "penguin = Penguin('fish 1')\n",
    "penguin = None\n",
    "penguin = Penguin('fish 2')  # 无需分配内存"
   ]
  },
  {
   "cell_type": "markdown",
   "metadata": {},
   "source": [
    "### 析构方法\n",
    "\n",
    "python中有[__del__](https://docs.python.org/zh-cn/3/reference/datamodel.html?highlight=__del__#object.__del__)方法用于在销毁python实例时触发.通常触发销毁实例有两种情况:\n",
    "\n",
    "+ 调用`del 变量名`手动销毁\n",
    "+ gc自动回收销毁.\n",
    "\n",
    "无论哪种情况,在python中析构流程如下:\n",
    "\n",
    "1. 执行实例的`__del__`方法\n",
    "2. 销毁对象释放内存\n",
    "\n",
    "与`__cinit__`对应,Cython则提供了`__dealloc __`方法用于控制C对象的删除.它的执行时间点在`__del__`方法完成之后,必定只会执行一次且只要有定义就会被执行.\n",
    "\n",
    "\n",
    "实例析构过程是这样\n",
    "\n",
    "1. 执行实例的`__del__`方法\n",
    "2. 执行`__dealloc __`方法\n",
    "3. 销毁对象释放内存\n",
    "\n",
    "在无继承的情况下并不复杂,但如果存在继承,我们就需要注意执行顺序了.\n",
    "\n",
    "下面这个例子可以清晰的看到执行顺序"
   ]
  },
  {
   "cell_type": "code",
   "execution_count": 25,
   "metadata": {
    "tags": []
   },
   "outputs": [],
   "source": [
    "%%cython\n",
    "# distutils: extra_compile_args=-Wno-unreachable-code\n",
    "\n",
    "\n",
    "cdef class A:\n",
    "    def __del__(self):\n",
    "        print(f\"A delete\")\n",
    "        \n",
    "    def __dealloc__(self):\n",
    "        print(f\"A dealloc\")\n",
    "\n",
    "cdef class AA(A):\n",
    "    def __del__(self):\n",
    "        print(f\"AA delete\")\n",
    "        \n",
    "    def __dealloc__(self):\n",
    "        print(f\"AA dealloc\")\n",
    "    \n",
    "        \n",
    "class B(A):\n",
    "    def __del__(self):\n",
    "        print(f\"B delete\")\n",
    "        \n",
    "        "
   ]
  },
  {
   "cell_type": "code",
   "execution_count": 26,
   "metadata": {
    "tags": []
   },
   "outputs": [],
   "source": [
    "a = A()\n",
    "aa = AA()\n",
    "b = B()"
   ]
  },
  {
   "cell_type": "code",
   "execution_count": 27,
   "metadata": {
    "tags": []
   },
   "outputs": [
    {
     "name": "stdout",
     "output_type": "stream",
     "text": [
      "A delete\n",
      "A dealloc\n"
     ]
    }
   ],
   "source": [
    "del a"
   ]
  },
  {
   "cell_type": "code",
   "execution_count": 28,
   "metadata": {
    "tags": []
   },
   "outputs": [
    {
     "name": "stdout",
     "output_type": "stream",
     "text": [
      "AA delete\n",
      "AA dealloc\n",
      "A dealloc\n"
     ]
    }
   ],
   "source": [
    "del aa"
   ]
  },
  {
   "cell_type": "code",
   "execution_count": 29,
   "metadata": {
    "tags": []
   },
   "outputs": [
    {
     "name": "stdout",
     "output_type": "stream",
     "text": [
      "B delete\n",
      "A dealloc\n"
     ]
    }
   ],
   "source": [
    "del b"
   ]
  },
  {
   "cell_type": "markdown",
   "metadata": {},
   "source": [
    "在有继承的情况下我们可以总结为如下执行顺序:\n",
    "\n",
    "1. 执行实例的`__del__`方法,只会执行最后重载的那个`__del__`方法\n",
    "2. 执行`__dealloc __`方法,会按子类->父类的顺序执行各级`__dealloc __`方法,只要有定义就会执行\n",
    "3. 销毁对象释放内存."
   ]
  },
  {
   "cell_type": "markdown",
   "metadata": {},
   "source": [
    "### 其他特殊方法\n",
    "\n",
    "扩展类型几乎支持所有Python的魔术方法,这些魔术方法在Cython中被归类为*特殊方法*.上面介绍的`__init__()`,`__cinit__()`等等都是特殊方法.\n",
    "\n",
    "支持的特殊方法可在[这里查找到](http://docs.cython.org/en/latest/src/userguide/special_methods.html#special-methods-table)\n",
    "\n",
    "\n",
    "**注意**:\n",
    "\n",
    "特殊方法必须用`def`定义而不是`cdef`或`cpdef`,这不会影响他们的性能--Python使用不同的调用约定来调用这些特殊方法."
   ]
  },
  {
   "cell_type": "markdown",
   "metadata": {},
   "source": [
    "## 继承\n",
    "\n",
    "Cython扩展类型的继承规则如下:\n",
    "\n",
    "1. 扩展类型不可以继承python类型\n",
    "2. 扩展类型可以被另一个扩展类型继承,但只能单继承\n",
    "3. 扩展类型可以被python类继承,且支持多继承\n",
    "\n",
    "\n",
    "我们可以通过装饰器`@cythonfinal`防止被装饰的扩展类型在Python中被子类化\n",
    "\n",
    "```cython\n",
    "cimport cython\n",
    " \n",
    "@cython.final\n",
    "cdef class Parrot:\n",
    "    def done(self): pass\n",
    "```"
   ]
  },
  {
   "cell_type": "markdown",
   "metadata": {},
   "source": [
    "### 方法重载\n",
    "\n",
    "在扩展类型中同一申明方式的可以相互重载,而不同申明方式的则有一套优先级:\n",
    "\n",
    "+ `cpdef`可以重载`cdef`,而反过来就不行\n",
    "+ `def`可以重载`cpdef`,而反过来就不行\n",
    "\n",
    "> 同一申明方式相互重载"
   ]
  },
  {
   "cell_type": "code",
   "execution_count": 30,
   "metadata": {
    "tags": []
   },
   "outputs": [],
   "source": [
    "%%cython\n",
    "# distutils: extra_compile_args=-Wno-unreachable-code\n",
    "\n",
    "\n",
    "cdef class A:\n",
    "    cdef foo(self):\n",
    "        print(\"A\")\n",
    "cdef class AA(A):\n",
    "    cdef foo(self):\n",
    "        print(\"AA\")\n",
    "    cpdef bar(self):\n",
    "        self.foo()\n",
    "        "
   ]
  },
  {
   "cell_type": "code",
   "execution_count": 31,
   "metadata": {
    "tags": []
   },
   "outputs": [
    {
     "name": "stdout",
     "output_type": "stream",
     "text": [
      "AA\n"
     ]
    }
   ],
   "source": [
    "AA().bar()"
   ]
  },
  {
   "cell_type": "markdown",
   "metadata": {},
   "source": [
    "> 优先级重载"
   ]
  },
  {
   "cell_type": "code",
   "execution_count": 34,
   "metadata": {
    "tags": []
   },
   "outputs": [],
   "source": [
    "%%cython\n",
    "# distutils: extra_compile_args=-Wno-unreachable-code\n",
    "\n",
    "\n",
    "cdef class A:\n",
    "    cdef foo(self):\n",
    "        print(\"A\")\n",
    "\n",
    "cdef class B(A):\n",
    "    cpdef foo(self, x=None):\n",
    "        print(\"B\", x)\n",
    "\n",
    "class C(B):\n",
    "    def foo(self, x=True, int k=3):\n",
    "        print(\"C\", x, k)"
   ]
  },
  {
   "cell_type": "code",
   "execution_count": 35,
   "metadata": {
    "tags": []
   },
   "outputs": [
    {
     "name": "stdout",
     "output_type": "stream",
     "text": [
      "B None\n"
     ]
    }
   ],
   "source": [
    "B(12).foo()"
   ]
  },
  {
   "cell_type": "code",
   "execution_count": 36,
   "metadata": {
    "tags": []
   },
   "outputs": [
    {
     "name": "stdout",
     "output_type": "stream",
     "text": [
      "C True 3\n"
     ]
    }
   ],
   "source": [
    "C().foo()"
   ]
  },
  {
   "cell_type": "code",
   "execution_count": null,
   "metadata": {},
   "outputs": [],
   "source": []
  }
 ],
 "metadata": {
  "kernelspec": {
   "display_name": "Python 3 (ipykernel)",
   "language": "python",
   "name": "python3"
  },
  "language_info": {
   "codemirror_mode": {
    "name": "ipython",
    "version": 3
   },
   "file_extension": ".py",
   "mimetype": "text/x-python",
   "name": "python",
   "nbconvert_exporter": "python",
   "pygments_lexer": "ipython3",
   "version": "3.10.12"
  }
 },
 "nbformat": 4,
 "nbformat_minor": 4
}
