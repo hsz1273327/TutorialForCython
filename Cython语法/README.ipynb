{
 "cells": [
  {
   "cell_type": "markdown",
   "metadata": {},
   "source": [
    "# Cython语法\n",
    "\n",
    "Cython语言是独立于python的一种语言,用于描述python对象和C/C++对象.python解释器无法解释cython代码,必须通过命令行工具`cython`编译成C代码后在用gcc编译成可执行文件或者通过命令行工具`cythonize`编译成python可以加载的动态链接库后由python解释器加载后使用.\n",
    "\n",
    "本文仅介绍实现部分的Cython语法,声明部分与实现部分语法一脉相承,我们会统一介绍.\n",
    "\n",
    "cython语法是python语法的超集,在实现部分相比python增加的内容包括:\n",
    "\n",
    "+ C对象实现部分\n",
    "    + C/C++变量类型声明\n",
    "    + C自定义结构声明\n",
    "    + Cython提供的运算符\n",
    "    + C函数声明\n",
    "    + 底层内存的调用和管理\n",
    "    \n",
    "+ python对象部分\n",
    "    + 静态化变量和参数\n",
    "    + 扩展类型\n",
    "\n",
    "+ 并行计算的优化支持\n",
    "+ 针对numpy的官方额外支持\n",
    "    \n",
    "    \n",
    "\n",
    "需要注意:\n",
    "\n",
    "1. Cython基本可以覆盖C语言的所有语法,但并不能覆盖C++的语法,除了stl外基本只能支持包装外部库.\n",
    "2. 本文中以`*`开头的章节在纯净模式下无法使用,以`+`开头的章节为部分功能在纯净模式下无法使用"
   ]
  }
 ],
 "metadata": {
  "kernelspec": {
   "display_name": "Python 3 (ipykernel)",
   "language": "python",
   "name": "python3"
  },
  "language_info": {
   "codemirror_mode": {
    "name": "ipython",
    "version": 3
   },
   "file_extension": ".py",
   "mimetype": "text/x-python",
   "name": "python",
   "nbconvert_exporter": "python",
   "pygments_lexer": "ipython3",
   "version": "3.10.11"
  }
 },
 "nbformat": 4,
 "nbformat_minor": 4
}
