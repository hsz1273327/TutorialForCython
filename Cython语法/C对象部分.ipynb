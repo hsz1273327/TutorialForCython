{
 "cells": [
  {
   "cell_type": "markdown",
   "metadata": {},
   "source": [
    "# C对象部分\n",
    "\n",
    "由于不用于python解释器对接,C/C++对象部分负责的是将Cython语法尽可能的映射为C语法的代码,也就是说这部分可以没有python的事儿的.\n",
    "\n",
    "但并不是说这部分就不能有python对象,相反的这部分的c函数可以接收返回python对象.但个人并不推荐这样做.保持C对象部分的纯净只有好处没有坏处.\n",
    "\n",
    "Cython转换成的代码总体而言还是C代码,在实现方面C++部分也仅是有少量支持,我们能将它看做是C++的平替."
   ]
  },
  {
   "cell_type": "code",
   "execution_count": 2,
   "metadata": {
    "tags": []
   },
   "outputs": [],
   "source": [
    "%load_ext cython"
   ]
  },
  {
   "cell_type": "markdown",
   "metadata": {},
   "source": [
    "## C/C++变量类型声明\n",
    "\n",
    "需要声明变量类型的就两个场景:\n",
    "\n",
    "+ 函数/方法签名中声明参数和返回值,比如\n",
    "\n",
    "    ```cython\n",
    "    cdef int func1(int a, int b)\n",
    "    ```\n",
    "    \n",
    "+ 代码块中声明变量类型,使用`cdef`进行声明,比如:\n",
    "\n",
    "    ```cython\n",
    "    cdef int x,y,z\n",
    "    ```\n",
    "\n",
    "C/C++变量是可以在Python部分声明的,这就涉及到两边类型自动转化和一些限制的问题,我们会在Python对象部分进行介绍.这部分我们仅考虑在C/C++对象部分的用法和行为\n",
    "\n",
    "### 类型限定符\n",
    "\n",
    "cython中支持使用[类型限定符(Type qualifier)](https://learn.microsoft.com/zh-cn/cpp/c-language/type-qualifiers?view=msvc-170)对变量进行约束,支持的类型限定符有:\n",
    "\n",
    "+ `const`,声明变量不可修改\n",
    "+ `volatile`声明变量的值可由超出该变量所在的程序控制范围的某个值(如并发执行的线程)合理更改.\n",
    "\n",
    "其修饰方法就是在类型前面增加限定符,比如:\n",
    "\n",
    "```cython\n",
    "cdef volatile int a = 5 # volatile限定符的用法示例\n",
    "\n",
    "cdef const int sum(const int a, const int b): # const限定符的正常用法,\n",
    "    return a + b\n",
    "```\n",
    "\n",
    "### 指针和引用\n",
    "\n",
    "cython同样也支持指针,和C/C++中类似,其写法就是在类型后,变量名前增加一个星号`*`\n",
    "\n",
    "\n",
    "```cython\n",
    "cdef int func1(const int a, int *b)\n",
    "\n",
    "cdef int *a = 5\n",
    "```\n",
    "\n",
    "当于`const`限定符结合使用时需要注意每个部分的放置顺序\n",
    "\n",
    "```cython\n",
    "cdef void print_const_pointer(const int *value): # value为指向常量int的指针\n",
    "    print(value[0])\n",
    "\n",
    "cdef void print_pointer_to_const_value(int * const value):# value为指向int的常量指针\n",
    "    print(value[0])\n",
    "\n",
    "cdef void print_const_pointer_to_const_value(const int * const value): # value为指向常量int的常量指针\n",
    "    print(value[0])\n",
    "```\n",
    "\n",
    "类似的如果我们使用C++编译,则也可以支持引用,但在实现部分,个人建议还是不用为妙.\n",
    "\n",
    "```cython\n",
    "# distutils: language = c++\n",
    "\n",
    "cdef int i = 17\n",
    "cdef int &r = i;\n",
    "```\n",
    "\n",
    "#### 取地址和解引用\n",
    "\n",
    "cython中取地址和C中一样,都是使用`&`符号,但解引用需要使用cython库中的`cython.operator.dereference`"
   ]
  },
  {
   "cell_type": "code",
   "execution_count": 7,
   "metadata": {
    "tags": []
   },
   "outputs": [
    {
     "name": "stdout",
     "output_type": "stream",
     "text": [
      "42\n"
     ]
    }
   ],
   "source": [
    "%%cython -c=-Wno-unreachable-code\n",
    "\n",
    "from cython.operator cimport dereference\n",
    "\n",
    "cdef int x = 42\n",
    "cdef int* ptr = &x  # 创建一个指向整数 x 的指针\n",
    "\n",
    "cdef int y = dereference(ptr)\n",
    "print(y)"
   ]
  },
  {
   "cell_type": "markdown",
   "metadata": {},
   "source": [
    "### 类型反射\n",
    "\n",
    "cython中我们可以使用`cython.typeof`方法来反射C/C++类型变量的类型.\n",
    "\n",
    "```cython\n",
    "from cython cimport typeof\n",
    "...\n",
    "\n",
    "cdef int my_int = 42\n",
    "print(typeof(my_int)) # >>> int\n",
    "cdef object my_int = 42\n",
    "print(typeof(my_int)) # >>> Python object\n",
    "```\n",
    "\n",
    "### 类型转换\n",
    "\n",
    "在cython中使用`<xxx>yyy`操作符来进行类型转换,其使用方式与C中类似.\n",
    "\n",
    "```cython\n",
    "cdef char *p, float *q\n",
    "p = <char*>q\n",
    "\n",
    "```\n",
    "\n",
    "值得注意的是cython中python的`bool`类型会转化为`bint`,而python中的自定义类的实例则对应的`object`\n",
    "\n",
    "### 类型检测\n",
    "\n",
    "和C中类似,类型转换时使用`<xxx?>yyy`会先进行检测\n",
    "\n",
    "### 类型别名\n",
    "\n",
    "Cython中可以使用`ctypedef`关键字为C类型取别名\n",
    "\n",
    "```cython\n",
    "ctypedef unsigned int uint_t\n",
    "```\n",
    "\n",
    "### python对象类型\n",
    "\n",
    "python对象本质上也是C对象,因此也可以使用`cdef`来声明,所有的python对象都可以使用`object`来表示类型,`object`代表的就是pyhton的最基础类型`Object`.\n",
    "\n",
    "```cython\n",
    "cdef object pyechofunc(object x):\n",
    "    return x\n",
    "```\n",
    "\n",
    "如果一个参数不被声明类型则默认当做被声明为`object`来处理.也就是说上面的例子可以去掉类型声明简写为:\n",
    "\n",
    "```cython\n",
    "cdef pyechofunc(x):\n",
    "    return x\n",
    "```\n",
    "\n",
    "如果我们想使用python对象的引用作为参数,我们就必须导入`cpython.ref.PyObject`并使用`PyObject *`作为参数类型\n",
    "\n",
    "```cython\n",
    "from cpython.ref cimport PyObject\n",
    "...\n",
    "\n",
    "cdef borrowed_reference(PyObject * obj):\n",
    "    refcount = obj.ob_refcnt\n",
    "    print('Inside borrowed_reference: {refcount}'.format(refcount=refcount))\n",
    "```\n",
    "\n",
    "#### python中的容器类型声明\n",
    "\n",
    "`list`, `dict`也可以用于申明类型,他们就是python中对应的类型,但需要注意,这类声明并不能限定其中的内容类型.\n",
    "\n",
    "```cython\n",
    "cdef list alist = []\n",
    "```\n",
    "\n",
    "比较特殊的是`tuple`类型,它需要声明其中的数据类型,但它并不需要声明自己:\n",
    "\n",
    "```cython\n",
    "cdef (int,double) atuple\n",
    "```\n",
    "\n",
    "就表示`atuple`的类型为`tuple[int, double]`.这一语法被称为`ctuple`\n",
    "\n",
    "\n",
    "### C++中stl容器的声明\n",
    "\n",
    "如果我们使用的是C++编译器,那么我们可以使用stl中的容器作为类型,cython已经为其做好了封装,我们只要使用即可.\n",
    "\n",
    "大多数C++标准库的容器已在位于`/Cython /Includes/libcpp`的pxd文件中声明.这些容器是：\n",
    "\n",
    "+ `deque`双向队列\n",
    "+ `list`列表\n",
    "+ `map`映射\n",
    "+ `pair` 对\n",
    "+ `queue`队列\n",
    "+ `set`集合\n",
    "+ `stack`栈\n",
    "+ `vector`向量\n",
    "+ `string`字符串\n",
    "\n",
    "因此要用这些容器只需简单的cimport进来即可.很多结构是可迭代的,我们可以用熟悉的`for...in...`语法对其进行遍历.\n",
    "\n",
    "我们知道stl中的容器都是模版,很多使用时需要先指定类型参数进行实例化,cython中通过`模版名[类型]`的方式可以实现.以vector为例"
   ]
  },
  {
   "cell_type": "code",
   "execution_count": 2,
   "metadata": {
    "tags": []
   },
   "outputs": [
    {
     "name": "stdout",
     "output_type": "stream",
     "text": [
      "0\n",
      "1\n",
      "2\n",
      "3\n",
      "4\n",
      "5\n",
      "6\n",
      "7\n",
      "8\n",
      "9\n",
      "0\n",
      "1\n",
      "2\n",
      "3\n",
      "4\n",
      "5\n",
      "6\n",
      "7\n",
      "8\n",
      "9\n"
     ]
    }
   ],
   "source": [
    "%%cython -c=-Wno-unreachable-code\n",
    "# distutils: language = c++\n",
    "\n",
    "from libcpp.vector cimport vector\n",
    "\n",
    "cdef vector[int] vect\n",
    "cdef int i, x\n",
    "\n",
    "for i in range(10):\n",
    "    vect.push_back(i)\n",
    "\n",
    "for i in range(10):\n",
    "    print(vect[i])\n",
    "\n",
    "for x in vect:\n",
    "    print(x)"
   ]
  },
  {
   "cell_type": "markdown",
   "metadata": {},
   "source": [
    "### [`*`]对C++类对象的支持\n",
    "\n",
    "在实现部分我们不能定义C++类,但如果已经有声明包装了一个外部的C++类,我们可以对其进行实例化,删除实例和调用操作\n",
    "\n",
    "```cython\n",
    "# distutils: language = c++\n",
    "\n",
    "from Rectangle cimport Rectangle\n",
    "\n",
    "cdef Rectangle *rec  # 在栈上声明\n",
    "\n",
    "def main():\n",
    "    rec_ptr = new Rectangle(1, 2, 3, 4)# 在堆上创建\n",
    "    try:\n",
    "        rec_area = rec_ptr.getArea()\n",
    "    finally:\n",
    "        del rec_ptr # 在堆上删除\n",
    "```\n",
    "\n",
    "需要注意在纯净模式下我们无法`new`一个C++类的"
   ]
  },
  {
   "cell_type": "markdown",
   "metadata": {},
   "source": [
    "## C自定义结构声明\n",
    "\n",
    "Cython支持对C中的结构体,联合,枚举的声明"
   ]
  },
  {
   "cell_type": "markdown",
   "metadata": {},
   "source": [
    "### 声明结构体"
   ]
  },
  {
   "cell_type": "code",
   "execution_count": 3,
   "metadata": {
    "tags": []
   },
   "outputs": [
    {
     "name": "stdout",
     "output_type": "stream",
     "text": [
      "12;100.0\n"
     ]
    }
   ],
   "source": [
    "%%cython\n",
    "# distutils: extra_compile_args=-Wno-unreachable-code\n",
    "cdef struct Grail:\n",
    "    int age\n",
    "    float volume\n",
    "    \n",
    "cdef Grail grail = Grail(12,100)\n",
    "print(f\"{grail.age};{grail.volume}\")"
   ]
  },
  {
   "cell_type": "markdown",
   "metadata": {},
   "source": [
    "### 声明联合体"
   ]
  },
  {
   "cell_type": "code",
   "execution_count": 4,
   "metadata": {
    "tags": []
   },
   "outputs": [
    {
     "name": "stdout",
     "output_type": "stream",
     "text": [
      "b'b' 1.0\n"
     ]
    }
   ],
   "source": [
    "%%cython\n",
    "# distutils: extra_compile_args=-Wno-unreachable-code\n",
    "cdef union Food:\n",
    "    char *spam\n",
    "    float *eggs\n",
    "\n",
    "cdef float *arr = [1.0, 2.0]\n",
    "cdef Food spam = Food(spam='b')\n",
    "cdef Food eggs = Food(eggs=arr)\n",
    "print(spam.spam, eggs.eggs[0])"
   ]
  },
  {
   "cell_type": "markdown",
   "metadata": {},
   "source": [
    "### 声明枚举"
   ]
  },
  {
   "cell_type": "code",
   "execution_count": 5,
   "metadata": {
    "tags": []
   },
   "outputs": [
    {
     "name": "stdout",
     "output_type": "stream",
     "text": [
      "0\n",
      "1\n"
     ]
    }
   ],
   "source": [
    "%%cython\n",
    "# distutils: extra_compile_args=-Wno-unreachable-code\n",
    "cdef enum CheeseType:\n",
    "    cheddar, \n",
    "    edam,\n",
    "    camembert\n",
    "\n",
    "cdef enum CheeseState:\n",
    "    hard = 1\n",
    "    soft = 2\n",
    "    runny = 3\n",
    "\n",
    "print(CheeseType.cheddar)\n",
    "print(CheeseState.hard)"
   ]
  },
  {
   "cell_type": "markdown",
   "metadata": {},
   "source": [
    "## Cython提供的运算符\n",
    "\n",
    "Cython提供了以下运算符,他们有的是Python中本来就有的,在Cython中增加了针对C/C++不分的能力;有的则是C/C++中的东西,包括:\n",
    "\n",
    "+ 数据计算运算符,包括`++`,`--`,`+=`,`-=`,`*=`,`/=`,`%%`,`+`,`-`,`*`,`/`.他们和python中一致,只是在C/C++中只能用于数值\n",
    "\n",
    "+ 判断运算符,包括`>`,`<`,`>=`,`<=`,`==`,`!=`,`is`,`not`,`in`,他们和python中一致,只是在C/C++中现在也可以用\n",
    "\n",
    "+ 取地址`&`,C/C++中的操作"
   ]
  },
  {
   "cell_type": "code",
   "execution_count": 6,
   "metadata": {
    "tags": []
   },
   "outputs": [
    {
     "name": "stdout",
     "output_type": "stream",
     "text": [
      "Python object\n"
     ]
    }
   ],
   "source": [
    "%%cython\n",
    "# distutils: extra_compile_args=-Wno-unreachable-code\n",
    "\n",
    "from cython cimport typeof\n",
    "cdef object my_int = 42\n",
    "print(typeof(my_int))"
   ]
  },
  {
   "cell_type": "markdown",
   "metadata": {},
   "source": [
    "## C函数声明\n",
    "\n",
    "Cython中申明C的可调用对象依然使用`cdef`,但需要注意这种函数只能在同模块中被访问,而是无法在python解释器中访问.在构造这种函数时有如下注意事项\n",
    "\n",
    "1. 函数内部的变量必须申明.\n",
    "2. 函数不会默认返回`None`,如果你想反回空值需要在函数申明时将返回值声明为`void`\n",
    "3. 异常必须声明标志量\n",
    "\n",
    "\n",
    "C函数声明的完整语法为\n",
    "\n",
    "```cython\n",
    "cdef [返回值类型] 函数名(形参类型 形参名,...) [noexcept | except 异常标志量]:\n",
    "```"
   ]
  },
  {
   "cell_type": "markdown",
   "metadata": {
    "tags": []
   },
   "source": [
    "### 异常处理\n",
    "\n",
    "在Python中函数内部发生的异常会用信号通知调用者,并通过定义的错误返回值向上传播到调用堆栈.对于返回Python对象(以及指向该对象的指针)的函数,错误返回值只是`NULL`指针,因此任何返回Python对象的函数都有一个定义明确的错误返回值.\n",
    "\n",
    "虽然Python函数总是这样,但C/C++函数是没有定义明确的错误返回值的,通常情况下Cython使用一个专用的返回值来表示非外部C/C++函数引发了异常.\n",
    "\n",
    "在cython中我们处理异常的流程是:\n",
    "\n",
    "1. 定义自定义异常\n",
    "2. 在会抛出异常的的函数声明中声明异常标志量\n",
    "3. 在函数中抛出异常."
   ]
  },
  {
   "cell_type": "code",
   "execution_count": 7,
   "metadata": {
    "tags": []
   },
   "outputs": [
    {
     "name": "stdout",
     "output_type": "stream",
     "text": [
      "4\n"
     ]
    },
    {
     "ename": "MyCustomException2",
     "evalue": "test exception",
     "output_type": "error",
     "traceback": [
      "\u001b[0;31m---------------------------------------------------------------------------\u001b[0m",
      "\u001b[0;31mMyCustomException\u001b[0m                         Traceback (most recent call last)",
      "File \u001b[0;32m_cython_magic_e93106904a5583639906fcfbd7e81d30204024e1.pyx:20\u001b[0m, in \u001b[0;36m_cython_magic_e93106904a5583639906fcfbd7e81d30204024e1.foo\u001b[0;34m()\u001b[0m\n",
      "File \u001b[0;32m_cython_magic_e93106904a5583639906fcfbd7e81d30204024e1.pyx:14\u001b[0m, in \u001b[0;36m_cython_magic_e93106904a5583639906fcfbd7e81d30204024e1.spam\u001b[0;34m()\u001b[0m\n",
      "\u001b[0;31mMyCustomException\u001b[0m: test exception",
      "\nDuring handling of the above exception, another exception occurred:\n",
      "\u001b[0;31mMyCustomException2\u001b[0m                        Traceback (most recent call last)",
      "Cell \u001b[0;32mIn[7], line 1\u001b[0m\n\u001b[0;32m----> 1\u001b[0m \u001b[43mget_ipython\u001b[49m\u001b[43m(\u001b[49m\u001b[43m)\u001b[49m\u001b[38;5;241;43m.\u001b[39;49m\u001b[43mrun_cell_magic\u001b[49m\u001b[43m(\u001b[49m\u001b[38;5;124;43m'\u001b[39;49m\u001b[38;5;124;43mcython\u001b[39;49m\u001b[38;5;124;43m'\u001b[39;49m\u001b[43m,\u001b[49m\u001b[43m \u001b[49m\u001b[38;5;124;43m'\u001b[39;49m\u001b[38;5;124;43m'\u001b[39;49m\u001b[43m,\u001b[49m\u001b[43m \u001b[49m\u001b[38;5;124;43m'\u001b[39;49m\u001b[38;5;124;43m# distutils: extra_compile_args=-Wno-unreachable-code\u001b[39;49m\u001b[38;5;130;43;01m\\n\u001b[39;49;00m\u001b[38;5;130;43;01m\\n\u001b[39;49;00m\u001b[38;5;124;43mcdef class MyCustomException(Exception):\u001b[39;49m\u001b[38;5;130;43;01m\\n\u001b[39;49;00m\u001b[38;5;124;43m    def __init__(self, message):\u001b[39;49m\u001b[38;5;130;43;01m\\n\u001b[39;49;00m\u001b[38;5;124;43m        self.message = message\u001b[39;49m\u001b[38;5;130;43;01m\\n\u001b[39;49;00m\u001b[38;5;124;43m        \u001b[39;49m\u001b[38;5;130;43;01m\\n\u001b[39;49;00m\u001b[38;5;124;43mcdef class MyCustomException2(Exception):\u001b[39;49m\u001b[38;5;130;43;01m\\n\u001b[39;49;00m\u001b[38;5;124;43m    def __init__(self, message):\u001b[39;49m\u001b[38;5;130;43;01m\\n\u001b[39;49;00m\u001b[38;5;124;43m        self.message = message\u001b[39;49m\u001b[38;5;130;43;01m\\n\u001b[39;49;00m\u001b[38;5;124;43m        \u001b[39;49m\u001b[38;5;130;43;01m\\n\u001b[39;49;00m\u001b[38;5;124;43mcdef int spam(int x) except -1:\u001b[39;49m\u001b[38;5;130;43;01m\\n\u001b[39;49;00m\u001b[38;5;124;43m    if x > 0:\u001b[39;49m\u001b[38;5;130;43;01m\\n\u001b[39;49;00m\u001b[38;5;124;43m        return x**2\u001b[39;49m\u001b[38;5;130;43;01m\\n\u001b[39;49;00m\u001b[38;5;124;43m    raise MyCustomException(\u001b[39;49m\u001b[38;5;124;43m\"\u001b[39;49m\u001b[38;5;124;43mtest exception\u001b[39;49m\u001b[38;5;124;43m\"\u001b[39;49m\u001b[38;5;124;43m)\u001b[39;49m\u001b[38;5;130;43;01m\\n\u001b[39;49;00m\u001b[38;5;130;43;01m\\n\u001b[39;49;00m\u001b[38;5;124;43m    \u001b[39;49m\u001b[38;5;130;43;01m\\n\u001b[39;49;00m\u001b[38;5;124;43mcdef void foo() except *:\u001b[39;49m\u001b[38;5;130;43;01m\\n\u001b[39;49;00m\u001b[38;5;124;43m    print(spam(2))\u001b[39;49m\u001b[38;5;130;43;01m\\n\u001b[39;49;00m\u001b[38;5;124;43m    try:\u001b[39;49m\u001b[38;5;130;43;01m\\n\u001b[39;49;00m\u001b[38;5;124;43m        print(spam(-2))\u001b[39;49m\u001b[38;5;130;43;01m\\n\u001b[39;49;00m\u001b[38;5;124;43m    except Exception as e:\u001b[39;49m\u001b[38;5;130;43;01m\\n\u001b[39;49;00m\u001b[38;5;124;43m        raise MyCustomException2(str(e))\u001b[39;49m\u001b[38;5;130;43;01m\\n\u001b[39;49;00m\u001b[38;5;130;43;01m\\n\u001b[39;49;00m\u001b[38;5;124;43m    \u001b[39;49m\u001b[38;5;130;43;01m\\n\u001b[39;49;00m\u001b[38;5;124;43mfoo()\u001b[39;49m\u001b[38;5;130;43;01m\\n\u001b[39;49;00m\u001b[38;5;124;43m'\u001b[39;49m\u001b[43m)\u001b[49m\n",
      "File \u001b[0;32m~/micromamba/envs/py3.10/lib/python3.10/site-packages/IPython/core/interactiveshell.py:2478\u001b[0m, in \u001b[0;36mInteractiveShell.run_cell_magic\u001b[0;34m(self, magic_name, line, cell)\u001b[0m\n\u001b[1;32m   2476\u001b[0m \u001b[38;5;28;01mwith\u001b[39;00m \u001b[38;5;28mself\u001b[39m\u001b[38;5;241m.\u001b[39mbuiltin_trap:\n\u001b[1;32m   2477\u001b[0m     args \u001b[38;5;241m=\u001b[39m (magic_arg_s, cell)\n\u001b[0;32m-> 2478\u001b[0m     result \u001b[38;5;241m=\u001b[39m \u001b[43mfn\u001b[49m\u001b[43m(\u001b[49m\u001b[38;5;241;43m*\u001b[39;49m\u001b[43margs\u001b[49m\u001b[43m,\u001b[49m\u001b[43m \u001b[49m\u001b[38;5;241;43m*\u001b[39;49m\u001b[38;5;241;43m*\u001b[39;49m\u001b[43mkwargs\u001b[49m\u001b[43m)\u001b[49m\n\u001b[1;32m   2480\u001b[0m \u001b[38;5;66;03m# The code below prevents the output from being displayed\u001b[39;00m\n\u001b[1;32m   2481\u001b[0m \u001b[38;5;66;03m# when using magics with decodator @output_can_be_silenced\u001b[39;00m\n\u001b[1;32m   2482\u001b[0m \u001b[38;5;66;03m# when the last Python token in the expression is a ';'.\u001b[39;00m\n\u001b[1;32m   2483\u001b[0m \u001b[38;5;28;01mif\u001b[39;00m \u001b[38;5;28mgetattr\u001b[39m(fn, magic\u001b[38;5;241m.\u001b[39mMAGIC_OUTPUT_CAN_BE_SILENCED, \u001b[38;5;28;01mFalse\u001b[39;00m):\n",
      "File \u001b[0;32m~/micromamba/envs/py3.10/lib/python3.10/site-packages/Cython/Build/IpythonMagic.py:359\u001b[0m, in \u001b[0;36mCythonMagics.cython\u001b[0;34m(self, line, cell)\u001b[0m\n\u001b[1;32m    356\u001b[0m \u001b[38;5;66;03m# Build seems ok, but we might still want to show any warnings that occurred\u001b[39;00m\n\u001b[1;32m    357\u001b[0m print_compiler_output(get_stdout(), get_stderr(), sys\u001b[38;5;241m.\u001b[39mstdout)\n\u001b[0;32m--> 359\u001b[0m module \u001b[38;5;241m=\u001b[39m \u001b[43mload_dynamic\u001b[49m\u001b[43m(\u001b[49m\u001b[43mmodule_name\u001b[49m\u001b[43m,\u001b[49m\u001b[43m \u001b[49m\u001b[43mmodule_path\u001b[49m\u001b[43m)\u001b[49m\n\u001b[1;32m    360\u001b[0m \u001b[38;5;28mself\u001b[39m\u001b[38;5;241m.\u001b[39m_import_all(module)\n\u001b[1;32m    362\u001b[0m \u001b[38;5;28;01mif\u001b[39;00m args\u001b[38;5;241m.\u001b[39mannotate:\n",
      "File \u001b[0;32m~/micromamba/envs/py3.10/lib/python3.10/site-packages/Cython/Build/Inline.py:51\u001b[0m, in \u001b[0;36mload_dynamic\u001b[0;34m(name, path)\u001b[0m\n\u001b[1;32m     49\u001b[0m spec \u001b[38;5;241m=\u001b[39m importlib\u001b[38;5;241m.\u001b[39mutil\u001b[38;5;241m.\u001b[39mspec_from_file_location(name, loader\u001b[38;5;241m=\u001b[39mExtensionFileLoader(name, path))\n\u001b[1;32m     50\u001b[0m module \u001b[38;5;241m=\u001b[39m importlib\u001b[38;5;241m.\u001b[39mutil\u001b[38;5;241m.\u001b[39mmodule_from_spec(spec)\n\u001b[0;32m---> 51\u001b[0m \u001b[43mspec\u001b[49m\u001b[38;5;241;43m.\u001b[39;49m\u001b[43mloader\u001b[49m\u001b[38;5;241;43m.\u001b[39;49m\u001b[43mexec_module\u001b[49m\u001b[43m(\u001b[49m\u001b[43mmodule\u001b[49m\u001b[43m)\u001b[49m\n\u001b[1;32m     52\u001b[0m \u001b[38;5;28;01mreturn\u001b[39;00m module\n",
      "File \u001b[0;32m<frozen importlib._bootstrap_external>:1184\u001b[0m, in \u001b[0;36mexec_module\u001b[0;34m(self, module)\u001b[0m\n",
      "File \u001b[0;32m<frozen importlib._bootstrap>:241\u001b[0m, in \u001b[0;36m_call_with_frames_removed\u001b[0;34m(f, *args, **kwds)\u001b[0m\n",
      "File \u001b[0;32m_cython_magic_e93106904a5583639906fcfbd7e81d30204024e1.pyx:25\u001b[0m, in \u001b[0;36minit _cython_magic_e93106904a5583639906fcfbd7e81d30204024e1\u001b[0;34m()\u001b[0m\n",
      "File \u001b[0;32m_cython_magic_e93106904a5583639906fcfbd7e81d30204024e1.pyx:22\u001b[0m, in \u001b[0;36m_cython_magic_e93106904a5583639906fcfbd7e81d30204024e1.foo\u001b[0;34m()\u001b[0m\n",
      "\u001b[0;31mMyCustomException2\u001b[0m: test exception"
     ]
    }
   ],
   "source": [
    "%%cython\n",
    "# distutils: extra_compile_args=-Wno-unreachable-code\n",
    "\n",
    "cdef class MyCustomException(Exception):\n",
    "    def __init__(self, message):\n",
    "        self.message = message\n",
    "        \n",
    "cdef class MyCustomException2(Exception):\n",
    "    def __init__(self, message):\n",
    "        self.message = message\n",
    "        \n",
    "cdef int spam(int x) except -1:\n",
    "    if x > 0:\n",
    "        return x**2\n",
    "    raise MyCustomException(\"test exception\")\n",
    "\n",
    "    \n",
    "cdef void foo() except *:\n",
    "    print(spam(2))\n",
    "    try:\n",
    "        print(spam(-2))\n",
    "    except Exception as e:\n",
    "        raise MyCustomException2(str(e))\n",
    "\n",
    "    \n",
    "foo()\n"
   ]
  },
  {
   "cell_type": "markdown",
   "metadata": {},
   "source": [
    "#### 声明异常标志量\n",
    "\n",
    "异常标志量并不是给我们看的,而是告诉转译器的,在C中并没有所谓的异常,我们需要人为的预先定义一个返回值来告诉转译器,如果返回的值是这个值时就是异常了.\n",
    "\n",
    "异常标志量的类型可以是`int`,`enum`,`float`或者`指针`.也就是说以这4类为返回值类型的就可以标识一个明确的异常标志量来判定函数是否有异常.\n",
    "\n",
    "异常标志量应该是明确不会作为正常值返回的值,比如上例中平方计算的值怎么都不会是-1.但如果我们实在找不出一个值可以符合上述要求,那也可以使用`? 异常标志量`的形式进行声明.比如:\n",
    "\n",
    "```cython\n",
    "cdef int spam(int x) except? -1:\n",
    "    if x > 0:\n",
    "        return x**3\n",
    "    raise MyCustomException(\"test exception\")\n",
    "```\n",
    "这样转译器会在获得返回值为`-1`时额外多进行一次对[PyErr_Occurred()](https://docs.python.org/3/c-api/exceptions.html#c.PyErr_Occurred)的检验,只有都满足时才会抛出异常.\n",
    "\n",
    "当返回值类型为`void`时我们就只能通过检验`PyErr_Occurred()`来判断异常了,这时我们需要设置异常标志量为`*`.\n",
    "\n",
    "之所以搞得这么复杂其实还是为了向效率妥协,毕竟使用固定异常标志量判断的开销远低于`PyErr_Occurred()`.\n",
    "\n",
    "最后如果你的函数确定不应该出现异常,则应当声明为`noexcept`.如果`noexcept`函数最终还是以异常结束那么它将打印一条警告消息但不会继续向下传递异常.\n"
   ]
  },
  {
   "cell_type": "markdown",
   "metadata": {},
   "source": [
    "### [`*`]函数指针\n",
    "\n",
    "类似C中,Cython允许声明函数指针.需要注意这个功能在纯净模式中无法实现"
   ]
  },
  {
   "cell_type": "code",
   "execution_count": 8,
   "metadata": {
    "tags": []
   },
   "outputs": [
    {
     "name": "stdout",
     "output_type": "stream",
     "text": [
      "4\n"
     ]
    }
   ],
   "source": [
    "%%cython\n",
    "# distutils: extra_compile_args=-Wno-unreachable-code\n",
    "\n",
    "cdef int(*ptr_add)(int, int)\n",
    "\n",
    "cdef int add(int a, int b):\n",
    "    return a + b\n",
    "\n",
    "ptr_add = add\n",
    "\n",
    "print(ptr_add(1, 3))"
   ]
  },
  {
   "cell_type": "markdown",
   "metadata": {},
   "source": [
    "### cython的内置函数\n",
    "\n",
    "Cython将对大多数内置函数的调用编译为对相应的`Python/C API`版本,我们可以在cython代码中的直接调用他们.\n",
    "\n",
    "内置函数|返回类型|相当于`Python/C API`中的类型\n",
    "---|---|---\n",
    "`abs(obj)`|object, double, ...|PyNumber_Absolute, fabs, fabsf, ...\n",
    "`callable(obj)`|bint|PyObject_Callable\n",
    "`delattr(obj, name)`|None|PyObject_DelAttr\n",
    "`exec(code, [glob, [loc]])`|object\n",
    "`dir(obj)`|list|PyObject_Dir\n",
    "`divmod(a, b)`|tuple|PyNumber_Divmod\n",
    "`getattr(obj, name, [default])`|object|PyObject_GetAttr\n",
    "`hasattr(obj, name)`|bint|PyObject_HasAttr\n",
    "`hash(obj)`|int/long|PyObject_Hash\n",
    "`intern(obj)`|object|`Py*_InternFromString`\n",
    "`isinstance(obj, type)`|bint|PyObject_IsInstance\n",
    "`issubclass(obj, type)`|bint|PyObject_IsSubclass\n",
    "`iter(obj, [sentinel])`|object|PyObject_GetIter\n",
    "`len(obj)`|\tPy_ssize_t|PyObject_Length\n",
    "`pow(x, y, [z])`|object|PyNumber_Power\n",
    "`reload(obj)`|object|PyImport_ReloadModule\n",
    "`repr(obj)`|object|PyObject_Repr\n",
    "`setattr(obj, name)`|void|PyObject_SetAttr\n",
    "\n",
    "除了这些外,还有一些C/C++中的内置函数,他们也被Cython所支持\n",
    "\n",
    "内置函数|返回类型|说明\n",
    "---|---|---\n",
    "`sizeof(type)`|int|获取类型的占用字节数"
   ]
  }
 ],
 "metadata": {
  "kernelspec": {
   "display_name": "Python 3 (ipykernel)",
   "language": "python",
   "name": "python3"
  },
  "language_info": {
   "codemirror_mode": {
    "name": "ipython",
    "version": 3
   },
   "file_extension": ".py",
   "mimetype": "text/x-python",
   "name": "python",
   "nbconvert_exporter": "python",
   "pygments_lexer": "ipython3",
   "version": "3.10.12"
  }
 },
 "nbformat": 4,
 "nbformat_minor": 4
}
