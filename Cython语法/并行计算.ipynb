{
 "cells": [
  {
   "cell_type": "markdown",
   "id": "3fa9daf6-3b3f-4ebe-a376-b6b8e2245f2c",
   "metadata": {},
   "source": [
    "# 并行计算\n",
    "\n",
    "cython中当然可以正常使用多进程多线程和协程,但至少目前由于gil的限制这条技术路线是无法高效的利用多核的.Cython提供了对解放gil的支持,同时可以借助openmp提供的c级别多线程能力真正做到充分利用多核."
   ]
  },
  {
   "cell_type": "code",
   "execution_count": 1,
   "id": "de9ecf49-4a71-49af-9f33-cac1e1e6d5aa",
   "metadata": {
    "tags": []
   },
   "outputs": [],
   "source": [
    "%load_ext Cython"
   ]
  },
  {
   "cell_type": "markdown",
   "id": "becfaa5d-1ec4-4b9a-9f5c-04cf14548001",
   "metadata": {},
   "source": [
    "## 突破GIL限制\n",
    "\n",
    "我们都知道由于GIL的限制,python有个假的多线程--无论多少线程都只会使用1个cpu.这以现状可能会在后续的版本中有所突破,但至少目前不行.\n",
    "\n",
    "并不是所有情况下都应该或者需要突破GIL限制,突破GIL限制的代价是代码复杂性和可维护性,事实上只有如下情况会真正受益于突破GIL限制:\n",
    "\n",
    "+ 当你使用Cython的openmp进行并行计算时\n",
    "+ 当你打算将没有副作用的重型任务交给python的多线程在后台处理时.这个重型任务可以是计算密集型也可以是io密集型,只要够重就划得来\n",
    "+ 当你的Cython代码运行时间较长且从未调用Python解释器时,需要使用`with nogil: pass`来暂时的释放GIL以避免死锁\n",
    "\n",
    "在`nogil`模式下你需要小心管理线程间的数据共享和同步以避免竞态条件和数据一致性问题."
   ]
  },
  {
   "cell_type": "markdown",
   "id": "d9efb017-22c8-42ac-a235-bf44690e2975",
   "metadata": {},
   "source": [
    "### `nogil`模式的使用限制\n",
    "\n",
    "GIL是Python的底层机制,几乎python对象的所有操作都会触发GIL,因此绕过GIL因此`nogil`模式要跳过gil的限制会有如下限制\n",
    "\n",
    "1. 不能有python对象\n",
    "2. 不能触发异常,异常也是python对象,因此必须保证调用的代码逻辑不会触发异常.\n"
   ]
  },
  {
   "cell_type": "markdown",
   "id": "99acdf2a-7740-4873-8c9d-28c1d06f04af",
   "metadata": {},
   "source": [
    "### 声明一个函数受不受GIL限制\n",
    "\n",
    "我们可以直接声明一个纯处理C代码逻辑的C函数不受GIL限制,使用如下语法\n",
    "\n",
    "```cython\n",
    "cdef void some_func() noexcept nogil:\n",
    "    pass\n",
    "```\n",
    "\n",
    "需要注意这个函数通常同样有`noexcept`标识,这是因为异常的触发是会触发GIL的校验的.\n",
    "\n",
    "`nogil`模式的函数不能有任何Python参数或Python对象的返回值,内部如果需要与Python交互则需要使用上下文`with gil:`或调用明确声明为`with gil`的C函数.\n",
    "\n",
    "注意nogil函数注释声明在没有GIL的情况下调用该函数是安全的.完全可以在持有GIL的同时执行它.如果调用者持有该功能,本身并不释放GIL."
   ]
  },
  {
   "cell_type": "code",
   "execution_count": 2,
   "id": "fa427946-225a-483b-9f99-7c1ecf19461e",
   "metadata": {
    "tags": []
   },
   "outputs": [
    {
     "name": "stdout",
     "output_type": "stream",
     "text": [
      "3\n"
     ]
    }
   ],
   "source": [
    "%%cython\n",
    "# distutils: extra_compile_args=-Wno-unreachable-code\n",
    "\n",
    "cdef int add(int a, int b) noexcept nogil:\n",
    "    return a + b\n",
    "\n",
    "print(add(1,2))"
   ]
  },
  {
   "cell_type": "markdown",
   "id": "4fea00b4-db8f-44f8-a2d5-014d4c947f97",
   "metadata": {},
   "source": [
    "类似的我们也可以声明一个C函数必定受GIL限制,使用如下语法:\n",
    "\n",
    "```cython\n",
    "cdef void some_func() [except 标质量] with gil:\n",
    "    pass\n",
    "```\n",
    "\n",
    "这样的函数将无论怎样都受gil限制,因为它会在调用时主动获取gil在执行完成后释放gil.\n",
    "\n",
    "通常`with gil`标识的函数和`nogil`标识的函数一样都是参数,返回值,内部都没有python对象和异常的C函数,正因为如此才需要标识为`with gil`主动触发,否则完全没有必要"
   ]
  },
  {
   "cell_type": "markdown",
   "id": "1818a9da-53e4-4f4e-9b5b-5d5615af2a76",
   "metadata": {},
   "source": [
    "### 声明一段代码受不受GIL限制\n",
    "\n",
    "Cython提供了上下文管理器`gil`和`nogil`用于控制在他们`with`语句内的代码块是否受GIL限制.\n",
    "\n",
    "```cython\n",
    "with nogil:\n",
    "    ...    # 代码块内不受GIL限制\n",
    "    with gil:\n",
    "        ...  # 代码块内受GIL限制\n",
    "    ...   # 代码块内继续不受GIL限制\n",
    "```\n",
    "\n",
    "这两个上下文管理可以结合函数GIL限制的声明一起使用:\n",
    "\n",
    "```cython\n",
    "cdef void some_func() with gil: # 受GIL限制的函数\n",
    "    ...\n",
    "    \n",
    "with nogil:\n",
    "    ...    # 代码块内不受GIL限制\n",
    "    some_func() # 代码块内受GIL限制\n",
    "    ..   # 代码块内继续不受GIL限制\n",
    "```\n",
    "\n",
    "#### 条件GIL控制限制上下文\n",
    "\n",
    "我们可以使用如下语法控制**编译时**是否使用GIL控制上下文,\n",
    "\n",
    "```cython\n",
    "with nogil(some_type is not object):\n",
    "    ...\n",
    "```\n",
    "\n",
    "注意这是编译时行为,这主要是在使用模版时会用到."
   ]
  },
  {
   "cell_type": "markdown",
   "id": "6e39ebf9-9f5a-4ab5-a7a5-890966ac63ec",
   "metadata": {},
   "source": [
    "### 异常与GIL\n",
    "\n",
    "异常总是需要GIL,因此在`nogil`模式下Cython会隐式地重新获取它.这就是为什么在`with nogil:`上下文中我们必须保证操作不会触发异常.\n",
    "\n",
    "类似地如果声明为nogil的函数抛出异常,`nogil`模式也会一定程度上失效.Cython虽然可以正确地传播它而无需编写显式代码来处理,但在触发异常时一样也会重新获取GIL.特别是在异常标志量为`except *`的函数中,由于这类异常无论如何触发都要调取CPython的ABI,因此异常触发效率较低且每次调用都会执行,因此这类函数在调用的时候`nogil`模式都会失效."
   ]
  },
  {
   "cell_type": "markdown",
   "id": "063c967a-b4f1-43cd-aec5-32aadda9ab07",
   "metadata": {},
   "source": [
    "## 使用openmp并行计算\n",
    "\n",
    "Cython提供了对openmp的原生支持,不仅有标准库而且提供了高级接口以便更方便的使用.\n",
    "\n",
    "### 编译设置\n",
    "\n",
    "要使用openmp需要有`libomp`,这个库在mac下默认的clang中是没有的,如果需要用建议直接安装gcc解决.总体来说gcc在哪个平台都挺靠谱,在mac上还可以避免和自带的clang冲突,就都建议作为默认编译器使用\n",
    "\n",
    "1. 安装gcc\n",
    "\n",
    "    ```bash\n",
    "    brew install gcc\n",
    "    ```\n",
    "\n",
    "2. 设置环境变量(以gcc13.1.0为例)\n",
    "\n",
    "    ```bash\n",
    "    alias gcc=/usr/local/Cellar/gcc/13.1.0/bin/gcc-13\n",
    "    alias g++=/usr/local/Cellar/gcc/13.1.0/bin/g++-13\n",
    "    alias gfortran=/usr/local/Cellar/gcc/13.1.0/bin/gfortran-13\n",
    "    export CC=/usr/local/Cellar/gcc/13.1.0/bin/gcc-13\n",
    "    export CXX=/usr/local/Cellar/gcc/13.1.0/bin/g++-13\n",
    "    ```\n",
    "    \n",
    "3. 在编译时带上编译器参数`extra_compile_args=['-fopenmp']`和`extra_link_args=['-fopenmp']`\n",
    "\n"
   ]
  },
  {
   "cell_type": "markdown",
   "id": "a4455aaa-67d6-4693-a8c4-8a347f9a6cec",
   "metadata": {},
   "source": [
    "### 结合Cython回顾openmp的用法\n",
    "\n",
    "openmp使用编译器指令`#pragma omp xxx`和特定函数来控制程序并行执行.在Cython中并没有全部提供,下面是Cython用到的openmp编译器指令和函数.\n"
   ]
  },
  {
   "cell_type": "markdown",
   "id": "ff0b86e8-9bc4-4c60-b4f2-40860cd7ceae",
   "metadata": {},
   "source": [
    "#### Cython中的openmp编译器指令\n",
    "\n",
    "Cython中的openmp编译器指令靠`prange`,`range`和`with parallel():`三种代码块来进行翻译,具体的用法我们会在后面的高级接口部分介绍,这3种代码块会被转译为的openmp编译器指令有如下:\n",
    "\n",
    "+ `#pragma omp parallel`, 用于在一个代码块之前,标明这个代码块会被多个线程执行\n",
    "+ `private(i)`,通常结合在`#pragma omp parallel`中,标明这个代码块中的变量`i`在每个线程中都有自己的私有变量\n",
    "+ `reduction(+:total)`,通常结合在`#pragma omp parallel`中,标明这个代码块中的变量`total`为归约变量,它会执行规约运算`+`,Cython中支持的归约运算包括`+`,`*`,`-`,`&`, `|`,`^`,**并不支持`||`和`&&`**\n",
    "+ `#pragma omp for ...`, 用于`for`循环语句前,标明将循环中的计算任务分配到多个线程中执行,注意必须保证每个循环中的数据不相关\n",
    "+ `firstprivate(i)`,必须配合`#pragma omp for ...`使用,表明变量`i`的在每个线程中都有自己的私有变量,并且私有变量会在进入并行域或任务分配时继承主线程中变量的值作为初值\n",
    "+ `lastprivate(i)`,必须配合`#pragma omp for ...`使用,表明变量`i`作为每个线程中的私有变量,在处理完后会被赋值到主线程中的同名变量中"
   ]
  },
  {
   "cell_type": "markdown",
   "id": "b2f98af3-35bb-434e-a49b-e504554c04db",
   "metadata": {},
   "source": [
    "#### Cython中的openmp函数\n",
    "\n",
    "openmp中的函数一般是用来设置或获取线程相关信息的.其中比较有用的被收在Cython的标准库`openmp`中其中比较重要的包括\n",
    "\n",
    "函数名|作用\n",
    "---|---\n",
    "`omp_in_parallel`|判断当前是否在并行域中\n",
    "`omp_get_thread_num`|返回线程号\n",
    "`omp_set_num_thread`|设置后续并行域中的线程格式\n",
    "`omp_get_num_threads`|返回当前并行域中的线程数\n",
    "`omp_get_max_threads`|返回并行域可用的最大线程数目\n",
    "`omp_get_num_procs`|返回系统中处理器的数目\n",
    "`omp_get_dynamic`|判断是否支持动态改变线程数目\n",
    "`omp_set_dynamic`|启用或关闭线程数目的动态改变\n",
    "`omp_get_nested`|判断系统是否支持并行嵌套\n",
    "`omp_set_nested`|启用或关闭并行嵌套\n",
    "\n",
    "除此之外还有`cython.parallel`库中的`threadid()`方法,它可以获取当前线程的id"
   ]
  },
  {
   "cell_type": "code",
   "execution_count": 3,
   "id": "6bf3496e-6abf-4e63-8d4b-97b9d999c9cb",
   "metadata": {
    "tags": []
   },
   "outputs": [
    {
     "name": "stdout",
     "output_type": "stream",
     "text": [
      "threadid: 0,num_threads: 5,num_prpces: 8threadid: 1,num_threads: 5,num_prpces: 8\n",
      "threadid: 2,num_threads: 5,num_prpces: 8\n",
      "threadid: 3,num_threads: 5,num_prpces: 8\n",
      "\n",
      "threadid: 4,num_threads: 5,num_prpces: 8\n"
     ]
    }
   ],
   "source": [
    "%%cython\n",
    "# distutils: extra_compile_args=-fopenmp\n",
    "# distutils: extra_link_args=-fopenmp\n",
    "\n",
    "from cython.parallel import parallel, threadid\n",
    "cimport openmp\n",
    "\n",
    "cdef int num_threads, num_procs, threadid\n",
    "\n",
    "openmp.omp_set_dynamic(1)\n",
    "with nogil, parallel():\n",
    "    num_threads = openmp.omp_get_num_threads()\n",
    "    num_procs = openmp.omp_get_num_procs()\n",
    "    threadid = threadid()\n",
    "    with gil:\n",
    "        print(f\"threadid: {threadid},num_threads: {num_threads},num_prpces: {num_procs}\")"
   ]
  },
  {
   "cell_type": "markdown",
   "id": "ffffec51-e024-4101-a51f-289119cfbeec",
   "metadata": {},
   "source": [
    "### 高级接口\n",
    "\n",
    "Cython通过python库`cython.parallel`模块支持本机并行计算.当不进行编译或没有openmp设置时,这些高级接口会退化为使用原生python的方式执行(和纯净模式中`cython`库的行为一致),但当你有上面的编译设置,且进行了编译,他们会被转译为特定的openmp编译器指令,从而提供基于openmp的多线程能力\n",
    "\n",
    "cython中提供的高级接口有两个:\n",
    "\n",
    "+ 上下文管理器`parallel`,用于声明其中的代码会并行执行\n",
    "+ 类`range`函数`prange`,用于使用`for`循环语法调度分发任务\n"
   ]
  },
  {
   "cell_type": "markdown",
   "id": "406950b9-5d11-4f19-9a44-4b8b594e4611",
   "metadata": {},
   "source": [
    "#### parallel\n",
    "\n",
    "上下文管理器`parallel`用于声明其中的代码段交给多线程执行,其签名如下\n",
    "\n",
    "`cython.parallel.parallel(num_threads=None)->ContextManager[None]`\n",
    "\n",
    "`num_threads=None`时线程数量取决于系统设置,而设置为其他值时就设多少就起多少个线程.\n",
    "\n",
    "`parallel`一般用的时候会和`nogil`上下文管理器一起使用,上面已经有例子了.\n",
    "\n",
    "其在没有编译的情况下,它没有效果"
   ]
  },
  {
   "cell_type": "code",
   "execution_count": 4,
   "id": "8b554a99-729a-4db2-bd56-46443a93cf29",
   "metadata": {
    "tags": []
   },
   "outputs": [
    {
     "name": "stdout",
     "output_type": "stream",
     "text": [
      "threadid: 0\n"
     ]
    }
   ],
   "source": [
    "import cython\n",
    "from cython.parallel import parallel, threadid\n",
    "\n",
    "threadid:cython.int\n",
    "\n",
    "# openmp.omp_set_dynamic(1)\n",
    "with cython.nogil, parallel(num_threads=4):\n",
    "    threadid = threadid()\n",
    "    with cython.gil:\n",
    "        print(f\"threadid: {threadid}\")"
   ]
  },
  {
   "cell_type": "markdown",
   "id": "c54c7d0d-924f-43e2-9df7-97c55acad04b",
   "metadata": {},
   "source": [
    "当进行编译时,它会转译为类似如下的openmp编译器指令\n",
    "\n",
    "```C\n",
    "#pragma omp parallel\n",
    "{\n",
    "    /* body goes here */\n",
    "}\n",
    "```\n",
    "\n",
    "如果在其中有用到什么变量,则这些变量会被自动填入`private(i)`\n",
    "\n",
    "比如上面例子就会转译为\n",
    "\n",
    "```C\n",
    "#pragma omp parallel private(threadid)\n",
    "{\n",
    "    /* body goes here */\n",
    "}\n",
    "```"
   ]
  },
  {
   "cell_type": "code",
   "execution_count": 5,
   "id": "4d40edae-3a2d-4f43-9725-47805607b6cd",
   "metadata": {
    "tags": []
   },
   "outputs": [
    {
     "name": "stdout",
     "output_type": "stream",
     "text": [
      "threadid: 1threadid: 0\n",
      "threadid: 3\n",
      "\n",
      "threadid: 2\n"
     ]
    }
   ],
   "source": [
    "%%cython\n",
    "# distutils: extra_compile_args=-fopenmp\n",
    "# distutils: extra_link_args=-fopenmp\n",
    "\n",
    "from cython.parallel import parallel, threadid\n",
    "cimport openmp\n",
    "\n",
    "cdef int threadid\n",
    "openmp.omp_set_dynamic(1)\n",
    "with nogil, parallel(num_threads=4):\n",
    "    threadid = threadid()\n",
    "    with gil:\n",
    "        print(f\"threadid: {threadid}\")"
   ]
  },
  {
   "cell_type": "markdown",
   "id": "7933c60f-81ea-4c4c-beef-516c948aac60",
   "metadata": {},
   "source": [
    "#### prange\n",
    "\n",
    "prange用于使用`for`语法控制并行任务.其接口为\n",
    "\n",
    "`cython.parallel.prange([start,] stop[, step][, nogil=False][, schedule=None[, chunksize=None]][, num_threads=None])->Iterable[int]`\n",
    "\n",
    "    \n",
    "`prange`表现上类似python内置函数`range`.\n",
    "    \n",
    "一个\n",
    "\n",
    "```cython\n",
    "for i in prange(): \n",
    "    pass\n",
    "```\n",
    "\n",
    "语句被转译后等价于类似如下\n",
    "\n",
    "```C\n",
    "#pragma omp parallel\n",
    "{\n",
    "    #pragma omp for firstprivate(i) lastprivate(i)\n",
    "    for (__pyx_t_8 = 0; __pyx_t_8 < __pyx_t_9; __pyx_t_8++){\n",
    "        i = __pyx_t_8;\n",
    "        /* body goes here */\n",
    "    }\n",
    "}\n",
    "```\n",
    "\n",
    "如果其中还包含`for j in range(xxx):`,那`j`也会被设置到`lastprivate`,类似\n",
    "\n",
    "```C\n",
    "#pragma omp parallel\n",
    "{\n",
    "    #pragma omp for firstprivate(i) lastprivate(i) lastprivate(j)\n",
    "    for (__pyx_t_8 = 0; __pyx_t_8 < __pyx_t_9; __pyx_t_8++){\n",
    "        i = __pyx_t_8;\n",
    "        /* body goes here */\n",
    "    }\n",
    "}\n",
    "```\n",
    "\n",
    "如果其中还有`+=`, `*=`, `-=`, `&=`, `|=`,`^=`这6个运算符,则还会增加`reduction`指令,归约运算与`=`前的一致,归约变量为符号左侧的变量.比如\n",
    "\n",
    "```cython\n",
    "cdef total = 0\n",
    "for i in prange(10): \n",
    "    total += i\n",
    "```\n",
    "就会被转译为\n",
    "```C\n",
    "#pragma omp parallel reduction(+:total)\n",
    "{\n",
    "    #pragma omp for firstprivate(i) lastprivate(i)\n",
    "    for (__pyx_t_8 = 0; __pyx_t_8 < __pyx_t_9; __pyx_t_8++){\n",
    "        i = __pyx_t_8;\n",
    "        /* body goes here */\n",
    "    }\n",
    "}\n",
    "```\n",
    "\n",
    "另外需要注意,**在循环中我们无法获取归约变量的值.**\n",
    "\n",
    "\n",
    "`prange`返回一个元素为int类型的可迭代对象,这个int对象本质上是迭代任务编号.\n",
    "\n",
    "在不编译的情况下这个循环会顺序执行,只有通过Cython并带上openmp的参数编译了它才会使用openmp并行化执行.\n"
   ]
  },
  {
   "cell_type": "code",
   "execution_count": 6,
   "id": "a08d092b-7350-473d-9723-078df9789535",
   "metadata": {
    "tags": []
   },
   "outputs": [
    {
     "name": "stdout",
     "output_type": "stream",
     "text": [
      "435\n"
     ]
    }
   ],
   "source": [
    "# 不编译,则顺次执行,就和`range`一样\n",
    "from cython.parallel import prange\n",
    "\n",
    "n:int = 30\n",
    "sum:int  = 0\n",
    "\n",
    "for i in prange(n, nogil=True):\n",
    "    sum += i\n",
    "\n",
    "print(sum)"
   ]
  },
  {
   "cell_type": "code",
   "execution_count": 7,
   "id": "dc53273d-65d7-4e75-b138-0a13663f3c9e",
   "metadata": {
    "tags": []
   },
   "outputs": [
    {
     "name": "stdout",
     "output_type": "stream",
     "text": [
      "435\n"
     ]
    }
   ],
   "source": [
    "%%cython\n",
    "# distutils: extra_compile_args=-fopenmp\n",
    "# distutils: extra_link_args=-fopenmp\n",
    "\n",
    "# 编译,则并行计算\n",
    "\n",
    "from cython.parallel import prange\n",
    "\n",
    "cdef int i\n",
    "cdef int n = 30\n",
    "cdef int sum = 0\n",
    "\n",
    "for i in prange(n, nogil=True):\n",
    "    sum += i\n",
    "\n",
    "print(sum)"
   ]
  },
  {
   "cell_type": "markdown",
   "id": "74affae3-b2d7-43a5-8ba9-da56acedac49",
   "metadata": {},
   "source": [
    "编译版本的prange每次循环相当于一个任务,prange会将每次循环要执行的内容根据`num_threads`,`chunksize`,和`schedule`将整体所有的任务打包为多个`chunk`(可以理解为一个`chunk`就是一批任务)分批分配给一个线程池并行的执行.`num_threads`指定线程池中的线程数,`chunksize`则指定每个`chunk`中的任务数.OpenMP会根据所使用的`schedule`设置分配模式.根据这些模式对应的规则调度任务.这些模式包括:\n",
    "    \n",
    "+ `static`静态模式:prange会在进入迭代前先按提供的`chunksize`提前分好任务chunk并直接固定好执行线程;如果没有给出`chunksize`则迭代空间被分成大小相等的块,并且至多一个`chunk`会预先分配给每个线程.适用于调度开销可预测且重要的场景,这种方式可以将问题减少到已知具有大致相同运行时的大小相同的块.\n",
    "    \n",
    "+ `dynamic`动态模式:prange会在进入迭代时根据请求分发线程,默认`chunksize`为1,其原理是使用较大数量的较小的块来保持所有线程都在处理.适用于每个块的运行时间不同且无法预测的场景.(默认)\n",
    "    \n",
    "+ `guided`有指导模式:与动态调度一样,prange会在进入迭代时根据请求分发线程,但每个`chunk`的大小与未分配迭代数以及参与调度的线程数成正比,也就是说prange刚开始执行时未分配的迭代数大,可用于调度的线程多,所以`chunksize`大;当任务进行到快结束时条件相反所以`chunksize`就小,最小的`chunksize`值如果有设置`chunksize`就是这个设置的值,否则就是`1`\n",
    "    \n",
    "+ `runtime`运行时的：调度和`chunksize`取自运行时调度变量,可以通过`openmp.omp_set_schedule()`函数调用或`OMP_SCHEDULE`环境变量进行设置.请注意,这基本上禁用了调度代码本身的任何静态编译时优化.因此可能会显示比在编译时静态配置相同调度策略时更差的性能.\n",
    "    \n",
    "\n",
    "`prange`的`nogil`必须为`True`,这相当于循环中的代码块在`with nogil:`上下文管理器中.\n",
    "\n",
    "`prange`块中的变量我们需要控制其为线程私有,有如下规则:\n",
    "\n",
    "+ `for i in prange`中的`i`天生私有\n",
    "+ 块内的`for j in range`中的`j`天生私有\n",
    "+ 快内的python对象不是私有,并且受GIL限制,需要使用`with gil:`上下文管理器包裹相关操作\n",
    "+ 块内的变量不会自己设置为私有,我们可以用上面的`parallel`上下文管理器设置他们为私有."
   ]
  },
  {
   "cell_type": "markdown",
   "id": "2139ccb2-1722-45c9-92c9-2b21b0a2f19d",
   "metadata": {},
   "source": [
    "### 典型场景\n",
    "\n",
    "有以下几种典型场景,他们对应的用法是固定的,可以举一反三结合自己的需要往上套"
   ]
  },
  {
   "cell_type": "markdown",
   "id": "798f0703-b585-4bd6-b14b-8e76292eac9e",
   "metadata": {},
   "source": [
    "#### 元素并行操作\n",
    "\n",
    "最常见的用的最多的就是这种操作,其形式是针对容器中的每个元素执行相同的操作,也就是map-reduce中的map.通常这种操作有如下特征:\n",
    "\n",
    "+ 输入为一个容器,输出为一个同维度容器\n",
    "+ 并不是在原始输入上进行修改,而是创建一个新的容器存放结果\n",
    "+ 不使用全局变量\n",
    "+ 没有副作用\n",
    "\n",
    "这种操作多用在数值计算上,一般会结合效率更高的内存视图以及numpy数组一起使用.下面这个例子我们来执行一个将输入的全部元素计算sin值的操作"
   ]
  },
  {
   "cell_type": "code",
   "execution_count": 8,
   "id": "2c373402-0999-4aba-b854-5c21b6f0a999",
   "metadata": {
    "tags": []
   },
   "outputs": [],
   "source": [
    "%%cython\n",
    "# distutils: extra_compile_args=-fopenmp\n",
    "# distutils: extra_link_args=-fopenmp\n",
    "\n",
    "\n",
    "from cython.parallel cimport prange\n",
    "cimport cython\n",
    "from libc.math cimport sin\n",
    "\n",
    "import numpy as np\n",
    "\n",
    "@cython.boundscheck(False)\n",
    "@cython.wraparound(False)\n",
    "def do_sine(double[:,:] input):\n",
    "    cdef double[:,:] output = np.empty_like(input)\n",
    "    cdef Py_ssize_t i, j\n",
    "\n",
    "    for i in prange(input.shape[0], nogil=True):\n",
    "        for j in range(input.shape[1]):\n",
    "            output[i, j] = sin(input[i, j])\n",
    "    return np.asarray(output)\n",
    "\n"
   ]
  },
  {
   "cell_type": "code",
   "execution_count": 9,
   "id": "cee20036-d734-4cef-9c20-8c18a6af158f",
   "metadata": {
    "tags": []
   },
   "outputs": [
    {
     "name": "stdout",
     "output_type": "stream",
     "text": [
      "[[0.09983342 0.19866933 0.29552021 0.38941834 0.47942554]\n",
      " [0.89120736 0.93203909 0.96355819 0.98544973 0.99749499]]\n"
     ]
    }
   ],
   "source": [
    "import numpy as np\n",
    "\n",
    "print(do_sine(np.array([[0.1,0.2,0.3,0.4,0.5],[1.1,1.2,1.3,1.4,1.5]])))"
   ]
  },
  {
   "cell_type": "markdown",
   "id": "3cae184c-2a84-4f77-9016-e5f306ad9041",
   "metadata": {},
   "source": [
    "#### 归并操作\n",
    "\n",
    "有了map自然有reduce,这种操作一般也有如下特征:\n",
    "\n",
    "+ 输入是一个容器,输出是一个标量\n",
    "+ 不使用全局变量\n",
    "+ 没有副作用\n",
    "\n",
    "这种操作一样多用在数值计算上,一般会结合效率更高的内存视图以及numpy数组一起使用.下面这个例子我们来执行一个一维数组中全部元素做平方和,最终在开方的操作(也就是l2norm)"
   ]
  },
  {
   "cell_type": "code",
   "execution_count": 10,
   "id": "7e589cb6-407f-44a8-b8a2-1fc0dfdc5f1c",
   "metadata": {
    "tags": []
   },
   "outputs": [],
   "source": [
    "%%cython\n",
    "# distutils: extra_compile_args=-fopenmp\n",
    "# distutils: extra_link_args=-fopenmp\n",
    "\n",
    "from cython.parallel cimport prange\n",
    "cimport cython\n",
    "from libc.math cimport sqrt\n",
    "\n",
    "@cython.boundscheck(False)\n",
    "@cython.wraparound(False)\n",
    "def l2norm(double[:] x):\n",
    "    cdef double total = 0\n",
    "    cdef Py_ssize_t i\n",
    "    for i in prange(x.shape[0], nogil=True):\n",
    "        total += x[i]*x[i]\n",
    "    return sqrt(total)"
   ]
  },
  {
   "cell_type": "code",
   "execution_count": 11,
   "id": "aaf6480f-4c6d-4915-a6b2-0f6af9a7db06",
   "metadata": {
    "tags": []
   },
   "outputs": [
    {
     "name": "stdout",
     "output_type": "stream",
     "text": [
      "0.5477225575051662\n"
     ]
    }
   ],
   "source": [
    "import array\n",
    "\n",
    "print(l2norm(array.array(\"d\",[0.1,0.2,0.3,0.4])))"
   ]
  },
  {
   "cell_type": "markdown",
   "id": "18146df2-4f4f-4770-bab7-26de4627ee7b",
   "metadata": {},
   "source": [
    "#### 多并行块并行操作\n",
    "\n",
    "如果有介个并行块要一起执行,但他们之间又有小的串行部分,那么写一个大的并行块会更有效率.这虽然会让串行部分重复计算,但实际上开销反而小.\n",
    "\n",
    "下面这个例子我们为一维数组进行规范化操作,规范化需要先计算L2范数,然后再对每个元素进行标准化."
   ]
  },
  {
   "cell_type": "code",
   "execution_count": 24,
   "id": "8282da1d-0c9a-43da-8f24-1137797ed77c",
   "metadata": {
    "tags": []
   },
   "outputs": [],
   "source": [
    "%%cython\n",
    "# distutils: extra_compile_args=-fopenmp\n",
    "# distutils: extra_link_args=-fopenmp\n",
    "\n",
    "from cython.parallel cimport parallel, prange\n",
    "cimport cython\n",
    "from libc.math cimport sqrt\n",
    "import numpy as np\n",
    "\n",
    "@cython.boundscheck(False)\n",
    "@cython.wraparound(False)\n",
    "def normalize(double[:] x):\n",
    "    cdef Py_ssize_t i\n",
    "    cdef double total = 0\n",
    "    cdef double norm\n",
    "    cdef double[:] output = np.empty_like(x)\n",
    "    with nogil, parallel():\n",
    "        for i in prange(x.shape[0]):\n",
    "            total += x[i]*x[i]\n",
    "        norm = sqrt(total)\n",
    "        for i in prange(x.shape[0]):\n",
    "            output[i] = x[i]/norm\n",
    "    return np.asarray(output)"
   ]
  },
  {
   "cell_type": "code",
   "execution_count": 25,
   "id": "b79a4df6-8b14-4ab0-8d36-f95d2322daff",
   "metadata": {
    "tags": []
   },
   "outputs": [
    {
     "name": "stdout",
     "output_type": "stream",
     "text": [
      "[1. 1. 1. 1.]\n"
     ]
    }
   ],
   "source": [
    "import numpy as np\n",
    "print(normalize(np.array([1.1,2.2,3.3,4.4])))"
   ]
  },
  {
   "cell_type": "markdown",
   "id": "1add4521-b425-4342-970d-f5882223d68b",
   "metadata": {},
   "source": [
    "这个例子,我们将两个`prange`放在同一个`parallel`上下文中,这会被翻译为如:\n",
    "\n",
    "```C\n",
    "#pragma omp parallel private(norm) reduction(+:total)\n",
    "{\n",
    "    /* some calculations of array size... */\n",
    "    #pragma omp for firstprivate(i) lastprivate(i)\n",
    "    for (__pyx_t_2 = 0; __pyx_t_2 < __pyx_t_3; __pyx_t_2++){\n",
    "        /* ... */\n",
    "    }\n",
    "    norm = sqrt(total);\n",
    "    #pragma omp for firstprivate(i) lastprivate(i)\n",
    "    for (__pyx_t_2 = 0; __pyx_t_2 < __pyx_t_3; __pyx_t_2++){\n",
    "        /* ... */\n",
    "    }\n",
    "}\n",
    "```\n",
    "这样的形式可以让我们避免跳进跳出omp的`parallel`块,从而减少开支"
   ]
  },
  {
   "cell_type": "markdown",
   "id": "05c63d19-4fd6-45e2-8769-04a3b4f37700",
   "metadata": {},
   "source": [
    "#### 线程操作结合内存控制\n",
    "\n",
    "如果我们的计算操作需要用到堆上的内存,那就必须手动控制内存,分配和销毁必须在同一个线程中完成.\n",
    "\n",
    "下面这个例子我们来在一个二维数组中沿着0轴计算各个列的中位数."
   ]
  },
  {
   "cell_type": "code",
   "execution_count": 31,
   "id": "85fc2ccc-238f-498d-9979-3ee437f4a175",
   "metadata": {
    "tags": []
   },
   "outputs": [
    {
     "name": "stdout",
     "output_type": "stream",
     "text": [
      "Content of stderr:\n",
      "ld: warning: dylib (/usr/local/Cellar/gcc/13.1.0/lib/gcc/current/libstdc++.dylib) was built for newer macOS version (11.0) than being linked (10.9)\n",
      "ld: warning: dylib (/usr/local/Cellar/gcc/13.1.0/lib/gcc/current/libgomp.dylib) was built for newer macOS version (11.0) than being linked (10.9)"
     ]
    }
   ],
   "source": [
    "%%cython\n",
    "# distutils: language = c++\n",
    "# distutils: extra_compile_args=-fopenmp\n",
    "# distutils: extra_link_args=-fopenmp\n",
    "\n",
    "from cython.parallel cimport parallel, prange\n",
    "from libcpp.vector cimport vector\n",
    "from libcpp.algorithm cimport nth_element\n",
    "cimport cython\n",
    "from cython.operator cimport dereference\n",
    "\n",
    "import numpy as np\n",
    "\n",
    "@cython.boundscheck(False)\n",
    "@cython.wraparound(False)\n",
    "def median_along_axis0(const double[:,:] x):\n",
    "    cdef double[::1] out = np.empty(x.shape[1])\n",
    "    cdef Py_ssize_t i, j\n",
    "\n",
    "    cdef vector[double] *scratch # 缓存的vector\n",
    "    cdef vector[double].iterator median_it # 缓存的vector中中间位置迭代器\n",
    "    with nogil, parallel():\n",
    "        scratch = new vector[double](x.shape[0]) # 在线程中构造缓存\n",
    "        try:\n",
    "            for i in prange(x.shape[1]): # 按列拆分任务\n",
    "                # 将当列的每一行元素复制到缓存的vector\n",
    "                for j in range(x.shape[0]):\n",
    "                    dereference(scratch)[j] = x[j, i]\n",
    "                median_it = scratch.begin() + scratch.size()//2 # 计算中间位置的index\n",
    "                nth_element(scratch.begin(), median_it, scratch.end()) #使用`std::nth_element`对中间位置进行部分排序\n",
    "                # for the sake of a simple example, don't handle even lengths...\n",
    "                out[i] = dereference(median_it)# 从迭代器中取出中位数\n",
    "        finally:\n",
    "            del scratch # 销毁缓存\n",
    "    return np.asarray(out)"
   ]
  },
  {
   "cell_type": "code",
   "execution_count": 38,
   "id": "2d3a5774-518e-4982-9cd0-12a93585d1b9",
   "metadata": {
    "tags": []
   },
   "outputs": [
    {
     "data": {
      "text/plain": [
       "array([1.1, 2.2, 2.3, 1.4, 1.5])"
      ]
     },
     "execution_count": 38,
     "metadata": {},
     "output_type": "execute_result"
    }
   ],
   "source": [
    "x = np.array([\n",
    "    [0.1,0.2,0.3,0.4,0.5],\n",
    "    [1.1,1.2,1.3,1.4,1.5],\n",
    "    [2.1,2.2,2.3,2.4,2.5],\n",
    "    [1.1,2.2,3.3,0.4,0.5],\n",
    "])\n",
    "median_along_axis0(x)"
   ]
  },
  {
   "cell_type": "markdown",
   "id": "f4cf27d3-7996-4e7e-bbac-b86d15dedf99",
   "metadata": {
    "tags": []
   },
   "source": [
    "在上面的例子中,我们用prange分配对每一列的计算是一个任务.每一列的计算都用到一个临时的缓存`scratch`用来保存列中出现的数.这个缓存需要在各自的线程中创建和销毁以避免冲突.因此它的创建和销毁过程放在`with parallel():`内让他成为线程私有.\n",
    "同时为了提高效率,我们并不是每次循环都需要创建和销毁缓存,因为同一线程中缓存是可以复用的,因此缓存的处理在`for i in prange`外.最终它会被翻译为\n",
    "\n",
    "```C\n",
    "#pragma omp parallel private(scratch)\n",
    "{\n",
    "    scratch = new std::vector<double> ((x.shape[0]))\n",
    "    #pragma omp for firstprivate(i) lastprivate(i) lastprivate(j) lastprivate(median_it)\n",
    "    for (__pyx_t_9 = 0; __pyx_t_9 < __pyx_t_10; __pyx_t_9++){\n",
    "        i = __pyx_t_9;\n",
    "        /* implementation goes here */\n",
    "    }\n",
    "    /* some exception handling detail omitted */\n",
    "    delete scratch;\n",
    "}\n",
    "```"
   ]
  },
  {
   "cell_type": "markdown",
   "id": "8d3500ee-011f-4d4a-9a7a-46b9ca2d75ef",
   "metadata": {},
   "source": [
    "#### 不同线程执行不同的任务\n",
    "\n",
    "如果手动指定线程数,然后使用`omp.get_thread_num()`识别每个线程.则可以手动在线程之间分配工作.这种用法有点替代python标准库中线程工具的意思,但明显相关工具并不齐全,一旦复杂将难以维护,因此不推荐使用,不过这边还是给个例子"
   ]
  },
  {
   "cell_type": "code",
   "execution_count": 26,
   "id": "73f82cb7-a30f-444e-922f-e43a4d757635",
   "metadata": {
    "tags": []
   },
   "outputs": [
    {
     "name": "stdout",
     "output_type": "stream",
     "text": [
      "Content of stderr:\n",
      "ld: warning: dylib (/usr/local/Cellar/gcc/13.1.0/lib/gcc/current/libgomp.dylib) was built for newer macOS version (11.0) than being linked (10.9)"
     ]
    }
   ],
   "source": [
    "%%cython\n",
    "# distutils: extra_compile_args=-fopenmp\n",
    "# distutils: extra_link_args=-fopenmp\n",
    "\n",
    "from cython.parallel cimport parallel\n",
    "from openmp cimport omp_get_thread_num\n",
    "\n",
    "cdef void long_running_task1() nogil:\n",
    "    with gil:\n",
    "        print(\"long_running_task1\")\n",
    "\n",
    "cdef void long_running_task2() nogil:\n",
    "    with gil:\n",
    "        print(\"long_running_task2\")\n",
    "\n",
    "def do_two_tasks():\n",
    "    cdef int thread_num\n",
    "    with nogil, parallel(num_threads=2):\n",
    "        thread_num = omp_get_thread_num()\n",
    "        if thread_num == 0:\n",
    "            long_running_task1()\n",
    "        elif thread_num == 1:\n",
    "            long_running_task2()"
   ]
  },
  {
   "cell_type": "code",
   "execution_count": 27,
   "id": "ddbdeb44-a2c1-4379-be14-7609c0ce4323",
   "metadata": {
    "tags": []
   },
   "outputs": [
    {
     "name": "stdout",
     "output_type": "stream",
     "text": [
      "long_running_task2long_running_task1\n",
      "\n"
     ]
    }
   ],
   "source": [
    "do_two_tasks()"
   ]
  }
 ],
 "metadata": {
  "kernelspec": {
   "display_name": "Python 3 (ipykernel)",
   "language": "python",
   "name": "python3"
  },
  "language_info": {
   "codemirror_mode": {
    "name": "ipython",
    "version": 3
   },
   "file_extension": ".py",
   "mimetype": "text/x-python",
   "name": "python",
   "nbconvert_exporter": "python",
   "pygments_lexer": "ipython3",
   "version": "3.10.11"
  }
 },
 "nbformat": 4,
 "nbformat_minor": 5
}
