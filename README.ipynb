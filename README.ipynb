{
 "cells": [
  {
   "cell_type": "markdown",
   "id": "06d100ad-236e-4b87-8f7c-6f0a8cad7b12",
   "metadata": {},
   "source": [
    "# Cython\n",
    "\n",
    "Cython语言是独立于python的一种语言,用于描述python对象和C/C++对象.python解释器无法解释cython代码,必须通过命令行工具`cython`转译成C代码后在用gcc或g++编译成可执行文件或者通过命令行工具`cythonize`编译成python可以加载的动态链接库后由python解释器加载后使用.\n",
    "\n",
    "通常Cython并不单独作为一门编程语言直接使用,一般都是用做桥接python和C,使用范围上比较局限.\n",
    "\n",
    "[Cython本身有文档](http://docs.cython.org/en/latest/index.html)质量也还算不错,知识点基本都有,但实话说个人认为结构比较混乱,很多知识点都是点到为止,基本仅涉及cython本身,基本没有介绍如何与python或C/C++结合的内容,因此才会有这篇攻略\n",
    "\n",
    "这篇攻略我将尽量将知识点梳理清晰,并以我个人的最佳编码实践为基准统一风格,除了介绍Cython本身外更多的会结合实际的使用场景,通过例子来详细介绍从开发到发布的全流程工作流.\n",
    "\n",
    "本文基于Cython 3.0+"
   ]
  },
  {
   "cell_type": "markdown",
   "id": "1844f52b-35c8-4e24-8efb-bc487e3f8b51",
   "metadata": {},
   "source": [
    "## Cython语言的总体设计\n",
    "\n",
    "Cython一般用做桥接python和C,因此它要做到\n",
    "\n",
    "1. 让python解释器可以调用cython代码\n",
    "2. 让C/C++代码逻辑可以调用cython代码\n",
    "\n",
    "所以Cython定义了3种不同的部分:\n",
    "\n",
    "+ python对象部分,源码会被翻译为用python的ABI编写的C/C++代码段,这部分用于和python解释器对接\n",
    "+ C对象实现部分.源码会被翻译成单纯的C/C++代码段,这部分可以用于和C/C++对接\n",
    "+ C/C++接口声明部分.用于将外部C/C++库的头文件包装为Cython对象以及给外部库提供接口信息便于模块化\n",
    "\n",
    "cython针对实现部分(也就是python对象部分和C对象实现部分)提供了两种语法支持,即cython语法和纯净模式语法,而C/C++接口声明部分则是统一的cython语法\n",
    "\n",
    "在同一模块中这实现部分可以相互调用,但与模块外部的交互只能分别用不同的部分进行.\n",
    "\n",
    "Cython在语法层面上接近python,无论是cython语法还是纯净模式语法都看着和python差不多;\n",
    "在代码结构上,Cython更加接近C.有实现部分和申明部分,申明部分用于对外提供接口,实现部分则只需要满足接口就可以了."
   ]
  },
  {
   "cell_type": "markdown",
   "id": "89e29fff-d8d1-4ac8-83b2-b8bf0fd84907",
   "metadata": {},
   "source": [
    "## 源文件类型\n",
    "\n",
    "Cython可以识别`.py`,`.cpp`,`.c`,`.h`,`.pyx`,`.pxd`,`.pxi`,其中\n",
    "\n",
    "+ `.cpp`,`.c`,`.h`是c/c++的源码和头文件,一般是包装模式下被包装的C/C++部分代码.`.h`也可以是指向的静/动态链接库.\n",
    "+ `.py`是python形式的源文件,可以在python解释其中被直接执行,也满足cython纯净模式,是一种比较通用的写法,但一些比较复杂的特性写起来会比较繁琐.\n",
    "+ `.pyx`, Cython语法的实现部分源文件,用于编写包含Python和C代码混合的代码.pyx文件中的代码将被转换为`C`代码.对于cython就作用来说`.py`和`.pyx`是等价的,都是实现部分的源码文件,但习惯上`.pyx`文件中只会写cython语法的源码.\n",
    "+ `.pxd`, Cython语法下的的头文件,用于声明同名源文件(`.pyx`或`.py`)中的实现的接口以及包装外部C/C++库的接口,其功能类似C/C++中的头文件,.这些.pxd文件可以被.pyx文件和其他.pxd文件导入从而实现不同模块之间的代码共享和重用.\n",
    "\n",
    "    申明可以包含如下内容:\n",
    "    \n",
    "    + C型变量的声明\n",
    "    + extern C函数或变量声明\n",
    "    + 模块实现的声明\n",
    "    + 扩展类型的定义部分\n",
    "    + 外部函数库的所有声明等\n",
    "    \n",
    "    申明文件不能包含:\n",
    "    \n",
    "    + 任何非外部C变量声明\n",
    "    + C或Python功能的实现\n",
    "    + Python类定义和Python可执行语句\n",
    "    + 任何被定义为公共的声明即申明可以被其他Cython模块访问.这是没有必要的，因为它是自动的.而且公共声明只需要使外部C代码可以访问.\n",
    "    \n",
    "+ `.pxi`,用于填写直接嵌入其他cython代码中的代码,在使用的时候在需要插入的位置使用`include \"xxx.pxi\"`就可以.其原理类似C的头文件,就是单纯的将文件中的内容嵌入,算是一种古早时期代码组织方式的遗留.现在除了条件编译基本不会用了"
   ]
  },
  {
   "cell_type": "markdown",
   "id": "309ee5f2-e072-489b-ac8f-a5d5f9dddc78",
   "metadata": {},
   "source": [
    "## Cython的代码组织模式\n",
    "\n",
    "Cython的代码组织模式可以看做是python和C的结合,它既有模块又有接口声明.通常根据实现部分的源码类型分成两种:\n",
    "\n",
    "+ 纯净模式(Pure Python Mode),源码可以直接在python解释器中使用的模式,代码的主体还是python代码,但使用类型标注,装饰器.以`.py`作为文件后缀.在精心设计下不进行编译的情况下也可以直接被使用.\n",
    "\n",
    "+ Cython模式,源码就是纯正的Cython语法,必须通过编译才可以被使用\n",
    "\n",
    "这两种代码组织模式我们会在后面的文章中单独分开介绍."
   ]
  },
  {
   "cell_type": "markdown",
   "id": "4e3bc6b8-ea90-417f-aedf-f1746fc9123c",
   "metadata": {},
   "source": [
    "## helloworld\n",
    "\n",
    "虽然没什么带表性,惯例的我们用一个helloworld作为第一个例子."
   ]
  },
  {
   "cell_type": "code",
   "execution_count": 1,
   "id": "19ac6f2b-16f6-4c32-bb9b-2bed280a0077",
   "metadata": {
    "tags": []
   },
   "outputs": [],
   "source": [
    "%load_ext cython"
   ]
  },
  {
   "cell_type": "code",
   "execution_count": 4,
   "id": "b14ec766-9ae5-4123-b9d3-b9c9ecea0df5",
   "metadata": {
    "tags": []
   },
   "outputs": [
    {
     "name": "stdout",
     "output_type": "stream",
     "text": [
      "Hello World\n"
     ]
    }
   ],
   "source": [
    "%%cython\n",
    "# distutils: language=c++\n",
    "cpdef run():\n",
    "    print(\"Hello World\")\n",
    "\n",
    "run()"
   ]
  },
  {
   "cell_type": "markdown",
   "id": "a79339da-a488-4a6b-b0c0-87933c11a3f0",
   "metadata": {},
   "source": [
    "## 阅读提示\n",
    "\n",
    "这系列文章分为如下结构\n",
    "\n",
    "+ `工具链`,介绍cython编译相关的工具和基本用法,注意这部分不会涉及具体场景下的使用,具体场景下的使用请看正文\n",
    "+ `Cython的编译补充`,正文中关于Cython编译相关内容的补充\n",
    "+ `Cython语法`,由于cython支持两种语法,因此这边开始进行分叉,我们没有必要两种都学都用,这部分呢和下面的`纯净模式`部分挑一部分学即可\n",
    "    + C对象部分\n",
    "    + Python对象部分\n",
    "    + 并行计算\n",
    "    + 调用numpy\n",
    "+ `纯净模式语法`,由于cython支持两种语法,因此这边开始进行分叉,我们没有必要两种都学都用,这部分呢和上面的`Cython语法`部分挑一部分学即可\n",
    "    + C对象部分\n",
    "    + Python对象部分\n",
    "    + 并行计算\n",
    "    + 调用numpy\n",
    "+ `接口声明和模块化编程`,介绍如何声明接口组织代码\n"
   ]
  }
 ],
 "metadata": {
  "kernelspec": {
   "display_name": "Python 3 (ipykernel)",
   "language": "python",
   "name": "python3"
  },
  "language_info": {
   "codemirror_mode": {
    "name": "ipython",
    "version": 3
   },
   "file_extension": ".py",
   "mimetype": "text/x-python",
   "name": "python",
   "nbconvert_exporter": "python",
   "pygments_lexer": "ipython3",
   "version": "3.10.12"
  }
 },
 "nbformat": 4,
 "nbformat_minor": 5
}
