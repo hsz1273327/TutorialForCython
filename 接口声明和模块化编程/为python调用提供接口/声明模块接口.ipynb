{
 "cells": [
  {
   "cell_type": "markdown",
   "id": "c8f8e31b-9cf8-434b-933e-0d659af5a138",
   "metadata": {},
   "source": [
    "# 声明模块接口\n",
    "\n",
    "在声明模块接口方面,主要是3个方面:\n",
    "\n",
    "+ 声明类型别名\n",
    "+ 声明C全局变量\n",
    "+ 声明C函数\n",
    "+ 声明扩展类型\n",
    "\n",
    "尤其是结合纯净模式,我们可以做到渐进式的优化模块性能.\n",
    "\n",
    "这块的演示代码在[]()中"
   ]
  },
  {
   "cell_type": "code",
   "execution_count": 1,
   "id": "d796f2c0-1a78-42e8-a33c-cf93daaab750",
   "metadata": {
    "tags": []
   },
   "outputs": [],
   "source": [
    "%load_ext cython"
   ]
  },
  {
   "cell_type": "markdown",
   "id": "442fb169-ecd6-429d-b6e1-cce0f47c4253",
   "metadata": {},
   "source": [
    "## `.pxd`文件的编译时行为\n",
    "\n",
    "在编译时cython会自动在指定的实现文件同目录寻找与实现部分源码文件同名的声明文件共同编译.因此我们在编译时并不需要显式的指定`.pxd`文件,指定`.py`或`.pyx`文件即可.\n",
    "\n",
    "如果找到了声明文件,cython会匹配声明文件和实现文件,并校验声明的内容是否能在实现部分找到.这包括\n",
    "\n",
    "1. xxx\n",
    "2. 声明的函数在实现部分存不存在,函数签名是否匹配\n",
    "3. 声明的扩展类型在实现部分是否存在,其中的方法签名是否匹配\n",
    "\n",
    "如果都没有问题,cython就会正式进行编译.\n",
    "\n",
    "我个人推荐设置如下编译设置项:\n",
    "\n",
    "```cython\n",
    "# cython: embedsignature=True\n",
    "# cython: embedsignature.format=python\n",
    "```\n",
    "\n",
    "这样设置后,声明文件中设置的类型信息会被cython写入对应python可调用对象的说明文档.这样方便调用方查看使用."
   ]
  },
  {
   "cell_type": "markdown",
   "id": "864d9812-edc1-464d-bae1-ba35e057ea7b",
   "metadata": {},
   "source": [
    "## 声明类型别名\n",
    "\n",
    "Cython中我们可以使用关键词`ctypedef`来声明类型别名,其语法为`ctypedef 类型 类型别名`,比如将`unsigned int`定义为`uint_t`可以写作\n",
    "\n",
    "+ `A.pxd`\n",
    "\n",
    "    ```cython\n",
    "    ctypedef unsigned int uint_t\n",
    "    ```\n",
    "\n",
    "`ctypedef`可以也仅可以用于任何**C类型**,例如整数,浮点数,struct,指针等.通常用于提高可读性和对模块使用场景的匹配程度.\n",
    "\n",
    "通常别名声明既可以放在`.pxd`文件也可以放在实现部分,这取决于如下几点:\n",
    "\n",
    "1. 你是否希望外部cython模块使用这个别名,如果希望则放在`.pxd`文件,不希望则放实现部分\n",
    "2. 你的对外接口是否有用到这个别名,如果有用到则放在`.pxd`文件,没有则放实现部分\n",
    "\n",
    "一旦你在`.pxd`文件中声明了别名,那实现部分就不需要重复声明了."
   ]
  },
  {
   "cell_type": "markdown",
   "id": "ae1b90bb-95dc-4c78-a97e-48c49f5f9d77",
   "metadata": {},
   "source": [
    "## 声明C变量\n",
    "\n",
    "你可以直接用`cdef 类型 变量名`声明一个变量,比如\n",
    "\n",
    "+ `A.pxd`\n",
    "\n",
    "    ```cython\n",
    "    cdef int GLOBAL_VAL\n",
    "    ```\n",
    "\n",
    "通常变量声明既可以放在`.pxd`文件也可以放在实现部分,这取决于你是否希望外部cython模块使用这个变量,如果希望则放在`.pxd`文件,不希望则放实现部分.\n",
    "\n",
    "一旦你在.pxd文件中声明变量,那实现部分就不需要重复声明了可以直接赋值.比如上面声明文件对应的实现文件中可以直接这样赋值\n",
    "\n",
    "+ `A.pyx`\n",
    "\n",
    "    ```cython\n",
    "    GLOBAL_VAL = 100\n",
    "    ```"
   ]
  },
  {
   "cell_type": "markdown",
   "id": "9091eacd-c2fc-4192-b6f3-d028a2b09476",
   "metadata": {},
   "source": [
    "## 声明C函数\n",
    "\n",
    "我们可以使用`cdef [返回值类型] 函数名(形参类型 形参名,...) [noexcept | except 异常标志量]`来声明一个C函数;`cpdef 返回值类型 函数名(形参类型 形参,...)`来声明一个Python和C都可调用的函数\n",
    "\n",
    "需要注意的是如果参数有默认值,这个默认值在实现部分设置,但`.pxd`文件的声明中要使用`=*`来表示这个参数有默认值\n",
    "\n",
    "+ `A.pxd`\n",
    "\n",
    "    ```cython\n",
    "    cdef uint_t mycfunc(uint_t x, uint_t y=*)\n",
    "\n",
    "    cpdef int mycpfunc(int x, int y=*)\n",
    "    ```\n",
    "    \n",
    "+ `A.pyx`\n",
    "\n",
    "    ```cython\n",
    "    cdef uint_t mycfunc(uint_t x, uint_t y=2):\n",
    "        cdef uint_t a\n",
    "        a = x-y\n",
    "        return a + x * y\n",
    "\n",
    "    cpdef int mycpfunc(int x, int y=2):\n",
    "        cdef int a\n",
    "        a = x+y\n",
    "        return a + x * y\n",
    "\n",
    "    ```\n",
    "    \n",
    "**特别需要注意的是**:python函数不能在`.pxd`中声明,**包括静态化参数的python函数**.\n",
    "\n",
    "通常函数声明既可以放在`.pxd`文件也可以放在实现部分,这取决于你是否希望外部cython模块使用这个函数,如果希望则放在.pxd文件,不希望则放实现部分."
   ]
  },
  {
   "cell_type": "markdown",
   "id": "7c98a6e9-21c5-4035-adf9-367cc8251a36",
   "metadata": {},
   "source": [
    "### 声明内联函数\n",
    "\n",
    "在`.pyd`文件中同样可以写内联函数.但要注意内联函数除了要声明还要有实现\n",
    "\n",
    "```cython\n",
    "cdef inline int int_min(int a, int b):\n",
    "    return b if b < a else a\n",
    "```"
   ]
  },
  {
   "cell_type": "markdown",
   "id": "dd1cffa6-65e5-4dba-87eb-2b4f0ff7549c",
   "metadata": {},
   "source": [
    "## 声明扩展类型\n",
    "\n",
    "扩展类型中只需要且只能声明其中的C方法,Python和C都可调用的方法以及C属性,python部分不能声明.\n",
    "\n",
    "+ `A.pxd`\n",
    "\n",
    "```cython\n",
    "cdef class A:\n",
    "    cdef public int a\n",
    "    cdef int b\n",
    "    cdef double foo(self,double x)\n",
    "    cpdef double bar(self, double x)\n",
    "```\n",
    "\n",
    "其中C属性部分在`.pxd`中声明了就不需要再在实现部分声明了,只要正常赋值即可.\n",
    "\n",
    "+ `A.pyx`\n",
    "\n",
    "```cython\n",
    "cdef class A:\n",
    "    def __init__(self, b:int = 0):\n",
    "        self.a = 3\n",
    "        self.b = b\n",
    "\n",
    "    cdef double foo(self, double x):\n",
    "        return x + _helper(1.0)\n",
    "    \n",
    "    cpdef double bar(self, double x):\n",
    "        return x**2 + _helper(1.0)\n",
    "\n",
    "    def foobar(self,x:float)->float:\n",
    "        return x**2 + _helper(1.0)\n",
    "```\n"
   ]
  },
  {
   "cell_type": "markdown",
   "id": "648205da-0b9d-4f8e-bb56-6c1694c023b7",
   "metadata": {},
   "source": [
    "## 与纯净模式结合使用\n",
    "\n",
    "普通cython语法具有更好的表达能力,代码可读性更好功能也最全.但纯净模式与声明文件`.pyd`结合使用更加适合渐进式的性能优化工作流.我们可以先使用纯python实现,然后根据需要在对原始python代码做出极小改动的情况下使用声明文件`.pyd`将其改造为cython模块.\n",
    "\n",
    "cython在编译时会将声明文件`.pyd`中声明的变量,函数,方法,等与源文件中进行匹配,在纯净模式下,由于有声明文件`.pyd`中的声明,即便实现文件中定义的是python函数python类,也可以被当做声明成的C函数扩展类来进行编译.\n",
    "\n",
    "这块的演示代码在[]()中"
   ]
  },
  {
   "cell_type": "markdown",
   "id": "863df90e-94b8-4d07-a63a-1e0261c4bfe0",
   "metadata": {},
   "source": [
    "### 判别当前模块是否被编译过\n",
    "\n",
    "当作为python模块使用时,与纯净模式结合使用的一个问题是我们不能直观看出调用的是`.py`文件还是编译好的动态连接库.我们可以使用`cython.compiled`这个cython的全局变量来进行判断"
   ]
  },
  {
   "cell_type": "code",
   "execution_count": 2,
   "id": "20c5411a-046f-4d32-bc96-139eef635be7",
   "metadata": {
    "tags": []
   },
   "outputs": [
    {
     "name": "stdout",
     "output_type": "stream",
     "text": [
      "Just a lowly interpreted script.\n"
     ]
    }
   ],
   "source": [
    "import cython\n",
    "\n",
    "if cython.compiled:\n",
    "    print(\"Yep, I'm compiled.\")\n",
    "    \n",
    "else:\n",
    "    print(\"Just a lowly interpreted script.\")\n"
   ]
  },
  {
   "cell_type": "code",
   "execution_count": 4,
   "id": "a4b64e6f-61f8-4078-b302-3d7851ce6e9b",
   "metadata": {
    "tags": []
   },
   "outputs": [
    {
     "name": "stdout",
     "output_type": "stream",
     "text": [
      "Yep, I'm compiled.\n"
     ]
    }
   ],
   "source": [
    "%%cython\n",
    "\n",
    "import cython\n",
    "\n",
    "if cython.compiled:\n",
    "    print(\"Yep, I'm compiled.\")\n",
    "    \n",
    "else:\n",
    "    print(\"Just a lowly interpreted script.\")"
   ]
  },
  {
   "cell_type": "markdown",
   "id": "ca601b63-5f7c-4029-819f-5c455e10e9b2",
   "metadata": {},
   "source": [
    "我们通常会在纯净模式的源码中开头写上上面的判断并在其中写一些专用的代码逻辑"
   ]
  },
  {
   "cell_type": "markdown",
   "id": "94ccc950-e930-4932-b5dd-0929cc7722eb",
   "metadata": {},
   "source": [
    "### 纯净模式改写原例子 \n",
    "\n",
    "我们只需要改写实现部分:\n",
    "\n",
    "+ `A.py`\n",
    "\n",
    "```cython\n",
    "# cython: embedsignature=True\n",
    "# cython: embedsignature.format=python\n",
    "import cython\n",
    "\n",
    "if cython.compiled:\n",
    "    print(\"Yep, I'm compiled.\")\n",
    "\n",
    "else:\n",
    "    print(\"Just a lowly interpreted script.\")\n",
    "    uint_t = int\n",
    "    def int_min(a: int, b: int) -> int:\n",
    "        return b if b < a else a\n",
    "\n",
    "GLOBAL_VAL = 100\n",
    "\n",
    "# uint_t = cython.typedef(cython.uint)\n",
    "\n",
    "\n",
    "def mycfunc(x: uint_t, y: uint_t = 2) -> uint_t:\n",
    "    a: uint_t = x - y\n",
    "    return a + x * y\n",
    "\n",
    "\n",
    "def mycpfunc(x: cython.int, y: cython.int = 2) -> int:\n",
    "    a: cython.int = x + y\n",
    "    return a + x * y\n",
    "\n",
    "\n",
    "@cython.locals(x=cython.int, y=cython.int)\n",
    "def mypfuncstatic(x: int, y: int) -> int:\n",
    "    return x * y\n",
    "\n",
    "\n",
    "def mypfunc(x: int, y: int) -> int:\n",
    "    return 2 * x * y\n",
    "\n",
    "\n",
    "def _helper(a: cython.double) -> float:\n",
    "    return a + 1\n",
    "\n",
    "\n",
    "class A:\n",
    "    def __init__(self, b: int = 0):\n",
    "        self.a = 3\n",
    "        self.b = b\n",
    "\n",
    "    def foo(self, x: cython.double) -> cython.double:\n",
    "        return x + _helper(1.0)\n",
    "\n",
    "    def bar(self, x: float) -> float:\n",
    "        return x**2 + _helper(1.0)\n",
    "\n",
    "    def foobar(self, x: float) -> float:\n",
    "        return x**2 + _helper(1.0)\n",
    "```\n",
    "\n",
    "通常用纯净模式都是要考虑不编译情况下纯python代码的可执行性的,因此需要注意的有如下几点:\n",
    "\n",
    "1. 声明文件中的类型别名在cython中可以被直接使用,但在python下不行,需要像例子中一样在检查到没有编译的情况下提前声明别名\n",
    "2. 推荐无论是C函数,python函数还是C和python都可以调用的函数都保留typehints方便维护\n",
    "3. 建议C函数,C和python都可以调用的函数在typehints中使用`cython`模块中的类型进行声明;不静态化参数的python函数在typehints中使用python;静态化参数的python函数必须在typehints中使用`cython`模块中的类型进行声明\n",
    "4. 在给python写扩展的情况下建议非python接口的函数以及方法遵循python社区西关使用`_`开头命名"
   ]
  },
  {
   "cell_type": "code",
   "execution_count": null,
   "id": "6d1638e6-3f22-4f42-9c83-dd067814d231",
   "metadata": {},
   "outputs": [],
   "source": []
  }
 ],
 "metadata": {
  "kernelspec": {
   "display_name": "Python 3 (ipykernel)",
   "language": "python",
   "name": "python3"
  },
  "language_info": {
   "codemirror_mode": {
    "name": "ipython",
    "version": 3
   },
   "file_extension": ".py",
   "mimetype": "text/x-python",
   "name": "python",
   "nbconvert_exporter": "python",
   "pygments_lexer": "ipython3",
   "version": "3.10.12"
  }
 },
 "nbformat": 4,
 "nbformat_minor": 5
}
