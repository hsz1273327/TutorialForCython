{
 "cells": [
  {
   "cell_type": "markdown",
   "id": "b3574cce-bdc2-4de6-bf45-d6be9252388a",
   "metadata": {},
   "source": [
    "# 接口声明和模块化编程\n",
    "\n",
    "Cython有一类`.pxd`后缀的源文件,他们类似C/C++中的头文件,用于声明接口声明外部库依赖等非实现部分的工作.这一块如果没接触过C/C++的估计很难理解,但不要紧,这一块我们就来详细了解下这块的逻辑.\n",
    "\n",
    "## 基本用法\n",
    "\n",
    "`.pxd`后缀的源文件是声明文件,所谓声明文件是伴生于实现的,因此有一个`.pxd`后缀的文件就会有一个同名的`.py`或`.pyx`文件,但反之并不尽然.\n",
    "\n",
    "声明文件有对内对外两种作用:\n",
    "\n",
    "+ 对内\n",
    "    + 声明内部使用到的外部动态/静态链接库,C/C++实现代码的接口.只要在声明文件中声明了,那么对应的实现文件中就可以直接使用这些被声明的接口.\n",
    "    + 声明内部使用的类型别名\n",
    "    + 声明扩展类型中的C属性,这样实现部分就不需要再声明了\n",
    "\n",
    "+ 对外\n",
    "    + 声明实现了什么样的C接口,这样外部的cython模块就可以直接使用了.\n",
    "   \n",
    "    \n",
    "在有了声明文件后,我们也就可以模块化的构造cython项目了"
   ]
  }
 ],
 "metadata": {
  "kernelspec": {
   "display_name": "Python 3 (ipykernel)",
   "language": "python",
   "name": "python3"
  },
  "language_info": {
   "codemirror_mode": {
    "name": "ipython",
    "version": 3
   },
   "file_extension": ".py",
   "mimetype": "text/x-python",
   "name": "python",
   "nbconvert_exporter": "python",
   "pygments_lexer": "ipython3",
   "version": "3.10.12"
  }
 },
 "nbformat": 4,
 "nbformat_minor": 5
}
