{
 "cells": [
  {
   "cell_type": "markdown",
   "id": "f6cfa88d-ece5-467f-a51b-60fb2454e9eb",
   "metadata": {},
   "source": [
    "# 声明包装外部接口\n",
    "\n",
    "Cython的主要用途之一是包装现有的C/C++代码库.这仅需要使用声明文件`.pyd`进行包装即可. 使用cython包装的外部接口可以用于复用已有的高效的C/C++构造高性能的python库,也可以用于在用python做为脚本的C/C++程序中让C/C++可以调用python代码.\n",
    "\n",
    "声明包装外部接口的基本方式使用使用语法`cdef extern`:\n",
    "\n",
    "```cython\n",
    "cdef extern from \"A.h\":\n",
    "    int spam_counter\n",
    "    void order_spam(int tons)\n",
    "```\n",
    "\n",
    "我们会在接下来在C接口部分介绍最基础的包装源码,包装静态库和包装动态库,然后再在包装C++接口部分介绍如何包装C++的类以及模版\n"
   ]
  },
  {
   "cell_type": "markdown",
   "id": "5bd2a27f-00b8-4df7-b6fe-0b21961e5ead",
   "metadata": {},
   "source": [
    "## 包装C接口\n",
    "\n",
    "这部分我们复用[C语言攻略中的binary_vector](https://blog.hszofficial.site/TutorialForCLang/#/%E5%B7%A5%E5%85%B7%E9%93%BE/%E7%BC%96%E8%AF%91%E5%B7%A5%E5%85%B7%E9%93%BE/%E7%BC%96%E8%AF%91%E5%99%A8?id=%e4%be%8b%e5%ad%90-%e4%ba%8c%e7%bb%b4%e5%90%91%e9%87%8f%e6%93%8d%e4%bd%9c)这个例子.来演示如何包装.\n",
    "\n",
    "这个例子只有一个简单的头文件\n",
    "\n",
    "+ `binary_vector.h`\n",
    "\n",
    "    ```C\n",
    "    /* $Id$ */\n",
    "    #ifndef BINARY_VECTOR_H\n",
    "    #define BINARY_VECTOR_H//一般是文件名的大写 头文件结尾写上一行\n",
    "\n",
    "    struct BINARY_VECTOR {\n",
    "        float x;\n",
    "        float y;\n",
    "    };\n",
    "\n",
    "    typedef struct BINARY_VECTOR *BINARY_VECTOR_P;\n",
    "\n",
    "    BINARY_VECTOR_P VEC_new(void);\n",
    "    BINARY_VECTOR_P VEC_init(float x,float y);\n",
    "    void VEC_del(BINARY_VECTOR_P);\n",
    "\n",
    "    float VEC_mod(BINARY_VECTOR_P);\n",
    "    BINARY_VECTOR_P VEC_add(BINARY_VECTOR_P,BINARY_VECTOR_P);\n",
    "    float VEC_mul(BINARY_VECTOR_P ,BINARY_VECTOR_P);\n",
    "\n",
    "\n",
    "    #endif\n",
    "    ```\n",
    "\n",
    "它可以实现简单的二维向量结构的取模,加法和乘法操作.\n",
    "\n",
    "实际上无论是包装源码还是静态库动态库,声明文件的写法是一样的,不同之处仅在编译过程.\n",
    "\n",
    "我们仅需要构造一个`.pxd`声明文件即可将外部库进行包装,但需要注意仅包装python解释器是无法使用的,如果我们的目的是将其包装为python库,那我们还需要为它额外包装一个python接口.\n",
    "\n",
    "一般有两种方案\n",
    "\n",
    "+ 在声明文件`.pxd`同目录下建一个同名的`.pyx`或`.py`源文件,在其中用将它封装为python可以调用的接口\n",
    "+ 在这个项目外额外新建一个模块,然后调用这个包装模块将其包装为python可调用的接口.\n",
    "\n",
    "第一种方式简单直接,但对复用有些多余,毕竟cython除了写python库也有别的用处;第二种则灵活很多,像cython的标准库也都是第二种写法.为了演示方便我们用第一种方式作为主要的演示方式,第二种则作为补充\n",
    "\n"
   ]
  },
  {
   "cell_type": "markdown",
   "id": "0eefef68-47bf-40f5-8d37-33f035a06ef9",
   "metadata": {},
   "source": [
    "### 包装源码"
   ]
  },
  {
   "cell_type": "markdown",
   "id": "06637d18-41e3-4908-88f6-ef90cbfe457b",
   "metadata": {},
   "source": [
    "### 包装静态连接库 "
   ]
  },
  {
   "cell_type": "code",
   "execution_count": null,
   "id": "9ae888c6-6075-4fcc-9be6-d251ebe1b40f",
   "metadata": {},
   "outputs": [],
   "source": []
  },
  {
   "cell_type": "markdown",
   "id": "3fdf85fa-c387-4b0a-817d-a377db1e93f6",
   "metadata": {},
   "source": [
    "### 包装动态连接库"
   ]
  },
  {
   "cell_type": "code",
   "execution_count": null,
   "id": "be543e8b-543d-4340-aba7-b2706eeeb127",
   "metadata": {},
   "outputs": [],
   "source": []
  },
  {
   "cell_type": "markdown",
   "id": "ddefbd95-8520-4f70-980e-b2d19a38ed18",
   "metadata": {},
   "source": [
    "## 包装C++接口"
   ]
  },
  {
   "cell_type": "code",
   "execution_count": null,
   "id": "e92759dd-c825-4feb-a7f3-5854b424fed0",
   "metadata": {},
   "outputs": [],
   "source": []
  },
  {
   "cell_type": "markdown",
   "id": "7217070d-2a71-41eb-9316-70ebdcc51fae",
   "metadata": {},
   "source": [
    "### 包装模版"
   ]
  },
  {
   "cell_type": "code",
   "execution_count": null,
   "id": "6e0dd92e-76bc-4e22-9ad8-c4f5feba417f",
   "metadata": {},
   "outputs": [],
   "source": []
  }
 ],
 "metadata": {
  "kernelspec": {
   "display_name": "Python 3 (ipykernel)",
   "language": "python",
   "name": "python3"
  },
  "language_info": {
   "codemirror_mode": {
    "name": "ipython",
    "version": 3
   },
   "file_extension": ".py",
   "mimetype": "text/x-python",
   "name": "python",
   "nbconvert_exporter": "python",
   "pygments_lexer": "ipython3",
   "version": "3.10.12"
  }
 },
 "nbformat": 4,
 "nbformat_minor": 5
}
