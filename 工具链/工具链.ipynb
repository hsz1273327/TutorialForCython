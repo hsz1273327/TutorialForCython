{
 "cells": [
  {
   "cell_type": "markdown",
   "id": "b0d1ddf6-6a79-4480-b0ac-d94dd60abff6",
   "metadata": {},
   "source": [
    "# 工具链\n",
    "\n",
    "cython默认提供了3个命令行工具\n",
    "\n",
    "+ `cython`,用于将cython语言的源码转译为C代码\n",
    "+ `cythonize`,用于将cython语言的源码编译为python可以加载的动态连接库.\n",
    "+ `cygdb`,用于调试cython编译出来动态链接库的工具,提供了断点设置,变量查看,单步执行,堆栈追踪,查看内存这几个基本的调试功能\n",
    "\n",
    "\n",
    "官方还提供了3个额外的工具\n",
    "\n",
    "+ `cython_freeze`,用于创建一个C的入口函数并将指定的cython代码嵌入其中.\n",
    "+ `cythonrun`,等效于`python -m Cython.Build.BuildExecutable [ARGS] somefile.py`,编译一个python脚本为一个可执行程序\n",
    "+ `pcython`,命令行执行一段python代码或cython代码的,相当于python中的`python -c`\n",
    "\n",
    "只是这三个工具都没有正式发布,其中`cythonrun`和`pcython`都已经好几年没有维护了,不建议使用.直接安装cython并不会被安装上面三个工具,如果需要可以去[项目下的bin文件夹](https://github.com/cython/cython/tree/master/bin)中复制对应的文件下来使用.\n",
    "\n",
    "官方还提供了jupyter的魔法命令`cython`,使用时先试用`%load_ext cython`加载cython扩展,之后就可以使用了.\n",
    "\n",
    "编辑器支持方面cython是比较弱的.vscode上的插件基本只有语法高亮功能.\n",
    "\n",
    "我们使用一个简单的斐波那契数列计算作为例子,依次介绍这些工具.\n"
   ]
  },
  {
   "cell_type": "code",
   "execution_count": 35,
   "id": "a60b5712-af1a-4f91-98fd-3b9951c4a124",
   "metadata": {
    "tags": []
   },
   "outputs": [
    {
     "name": "stdout",
     "output_type": "stream",
     "text": [
      "Overwriting fib.pyx\n"
     ]
    }
   ],
   "source": [
    "%%writefile fib.pyx\n",
    "# distutils: language=c++\n",
    "\n",
    "def fib(int n):\n",
    "    \"\"\"Print the Fibonacci series up to n.\"\"\"\n",
    "    cdef int a = 0\n",
    "    cdef int b = 1\n",
    "    while b < n:\n",
    "        print(b, end=' ')\n",
    "        a, b = b, a + b\n",
    "    print()"
   ]
  },
  {
   "cell_type": "markdown",
   "id": "020c214a-55fa-42ad-b7ae-de4702891f02",
   "metadata": {},
   "source": [
    "## cython\n",
    "\n",
    "用于将cython语言的源码转译为C代码,它的主要参数可以有:\n",
    "\n",
    "+ `-I`,指定include文件(`pxi`)所在文件夹,基本无用\n",
    "+ `-o`,指定输出的c源文件\n",
    "+ `-v`,转译过程可见\n",
    "+ `-p`,将函数定义作为docstring\n",
    "+ `-w`,指定工作目录,也就是cython模块所在的文件夹\n",
    "+ `-a`,顺便生成一份html文件用于分析代码\n",
    "+ `--cplus`,生成c++代码而非C代码\n",
    "+ `-2`/`-3`/`-3str`,针对的python语法版本\n",
    "+ `-X NAME=VALUE,...,`设置全局cython的转译指令\n",
    "+ `-E NAME=VALUE,...,`设置全局转译时环境变量"
   ]
  },
  {
   "cell_type": "code",
   "execution_count": 36,
   "id": "d2477316-8d90-49f7-9063-088c7ecf0b39",
   "metadata": {
    "tags": []
   },
   "outputs": [
    {
     "name": "stdout",
     "output_type": "stream",
     "text": [
      "/Users/mac/micromamba/envs/py3.10/lib/python3.10/site-packages/Cython/Compiler/Main.py:381: FutureWarning: Cython directive 'language_level' not set, using '3str' for now (Py3). This has changed from earlier releases! File: /Users/mac/WORKSPACE/GITHUB/BLOG/TutorialForPythonAsGlueLanguage/附录/Cython使用简介/工具链/fib.pyx\n",
      "  tree = Parsing.p_module(s, pxd, full_module_name)\n"
     ]
    }
   ],
   "source": [
    "!cython -a -3 fib.pyx"
   ]
  },
  {
   "cell_type": "markdown",
   "id": "ab58fc1f-499e-4c98-bdb8-32351b1547bd",
   "metadata": {},
   "source": [
    "执行后会输出一个名为`helloworld.c`的c代码.使用`-a`可以额外输出一个html文件,其中黄色的部分就是与python交互的部分,也就是性能瓶颈."
   ]
  },
  {
   "cell_type": "markdown",
   "id": "4158a2f2-7bdd-47cd-b0c2-7028346bef95",
   "metadata": {
    "tags": []
   },
   "source": [
    "## cythonize\n",
    "\n",
    "cythonize是cython官方提供的编译工具,用起来和gcc差不太多.但是无法指定使用的C编译器,我们可以使用环境变量`CC`和`CXX`配置好编译器再执行.\n",
    "\n",
    "常用的参数有:\n",
    "\n",
    "+ `-i` 指明编译时是inplace模式,这种模式下编译好的动态链接库会放在源文件的同级目录中\n",
    "+ `-a` 输出编译为C后各行对应的代码\n",
    "+ `--3str`指定使用Python3的语法\n",
    "+ `-X NAME=VALUE,...,` 设置cython转译器指令\n",
    "+ `-E NAME=VALUE,...,` 设置转译时环境变量 \n",
    "+ `-s NAME=VALUE,...,`,设置cython的选项\n",
    "+ `-j n`,设置并行编译的并行度,默认1\n",
    "\n",
    "具体的用法我们会在后文Cython的编译部分详细介绍.\n",
    "  "
   ]
  },
  {
   "cell_type": "code",
   "execution_count": 38,
   "id": "78d0bf17-8ebb-4a7e-993d-d2a0cf7daff3",
   "metadata": {
    "tags": []
   },
   "outputs": [
    {
     "name": "stdout",
     "output_type": "stream",
     "text": [
      "Compiling /Users/mac/WORKSPACE/GITHUB/BLOG/TutorialForPythonAsGlueLanguage/附录/Cython使用简介/工具链/fib.pyx because it changed.\n",
      "[1/1] Cythonizing /Users/mac/WORKSPACE/GITHUB/BLOG/TutorialForPythonAsGlueLanguage/附录/Cython使用简介/工具链/fib.pyx\n"
     ]
    }
   ],
   "source": [
    "!cythonize -i --3 fib.pyx"
   ]
  },
  {
   "cell_type": "code",
   "execution_count": 40,
   "id": "fb3b70ec-e31d-4cb1-a94f-29b16f001479",
   "metadata": {
    "tags": []
   },
   "outputs": [
    {
     "name": "stdout",
     "output_type": "stream",
     "text": [
      "1 1 2 \n"
     ]
    }
   ],
   "source": [
    "import fib\n",
    "\n",
    "fib.fib(3)"
   ]
  },
  {
   "cell_type": "markdown",
   "id": "d360d45c-428e-4942-a80a-72fc3fa81982",
   "metadata": {},
   "source": [
    "## cygdb\n",
    "\n",
    "...施工中"
   ]
  },
  {
   "cell_type": "markdown",
   "id": "46434538-cd8b-44c5-90e6-a7ae3b680efd",
   "metadata": {},
   "source": [
    "## cython_freeze\n",
    "\n",
    "cython_freeze的作用是给cython代码构造C语言的入口文件.它有两个应用\n",
    "\n",
    "1. 纯用Cython写出可执行程序(当然还是必须带个python解释器的动态链接库)\n",
    "\n",
    "2. 自定义python解释器,在其中嵌入cython写好的方法或类型\n",
    "\n",
    "和python中一致,我们可以在cython中用`if __name__ == \"__main__\":`标识入口,这样`cython_freeze`会将第一个源码文件的`if __name__ == \"__main__\":`部分作为入口函数处理.\n",
    "\n",
    "我们从纯用Cython写出可执行程序开始,用官方的例子来演示如何使用`cython_freeze`\n",
    "\n",
    "+ `freeze/lcmath.pyx`\n",
    "\n",
    "```cython\n",
    "# cython: language_level=3\n",
    "\n",
    "cdef extern from \"math.h\":\n",
    "    double c_lgamma \"lgamma\" (double)\n",
    "    double c_exp \"exp\" (double)\n",
    "\n",
    "\n",
    "def exp(n):\n",
    "    \"\"\"Return e**n.\"\"\"\n",
    "    return c_exp(n)\n",
    "\n",
    "\n",
    "def lfactorial(n):\n",
    "    \"\"\"Return an estimate of the log factorial of n.\"\"\"\n",
    "    return c_lgamma(n+1)\n",
    "\n",
    "\n",
    "def factorial(n):\n",
    "    \"\"\"Return an estimate of the factorial of n.\"\"\"\n",
    "    return c_exp( c_lgamma(n+1) )\n",
    "\n",
    "\n",
    "if __name__ == \"__main__\":\n",
    "    import sys\n",
    "    if len(sys.argv) != 2:\n",
    "        sys.stderr.write(\"USAGE: %s n\\nPrints n!.\\n\" % sys.argv[0])\n",
    "        sys.exit(2)\n",
    "    n, = map(float, sys.argv[1:])\n",
    "    print(factorial(n))\n",
    "```\n",
    "\n",
    "+ `freeze/combinatorics.pyx`\n",
    "\n",
    "```cython\n",
    "# cython: language_level=3\n",
    "\n",
    "import lcmath\n",
    "\n",
    "\n",
    "def nCr(n, r):\n",
    "    \"\"\"Return the number of ways to choose r elements of a set of n.\"\"\"\n",
    "    return lcmath.exp(\n",
    "        lcmath.lfactorial(n) -\n",
    "        lcmath.lfactorial(r) -\n",
    "        lcmath.lfactorial(n-r)\n",
    "    )\n",
    "\n",
    "if __name__ == \"__main__\":\n",
    "    import sys\n",
    "    if len(sys.argv) != 3:\n",
    "        sys.stderr.write(\"USAGE: %s n r\\nPrints n-choose-r.\\n\" % sys.argv[0])\n",
    "        sys.exit(2)\n",
    "    n, r = map(float, sys.argv[1:])\n",
    "    print(nCr(n, r))\n",
    "```"
   ]
  },
  {
   "cell_type": "markdown",
   "id": "ef5f5bc7-a713-4fce-95ef-0217d1b3d475",
   "metadata": {},
   "source": [
    "### 编译步骤\n",
    "\n",
    "1. 转译入口c源码,这一步需要注意第一个文件的`__main__`部分会被转译为入口函数"
   ]
  },
  {
   "cell_type": "code",
   "execution_count": 7,
   "id": "80b164e3-ca97-4ce3-aca8-2149deec47d4",
   "metadata": {
    "tags": []
   },
   "outputs": [],
   "source": [
    "!cython_freeze -o freeze/nCr.c freeze/combinatorics.pyx freeze/lcmath.pyx"
   ]
  },
  {
   "cell_type": "markdown",
   "id": "e5cd013b-37cc-4776-9bb1-d8034a4b01a4",
   "metadata": {},
   "source": [
    "2. 转译依赖cython的源码"
   ]
  },
  {
   "cell_type": "code",
   "execution_count": 9,
   "id": "9186f746-211b-4d49-8711-b4abd300f8b4",
   "metadata": {
    "tags": []
   },
   "outputs": [],
   "source": [
    "!cython -o freeze/combinatorics.c freeze/combinatorics.pyx"
   ]
  },
  {
   "cell_type": "code",
   "execution_count": 10,
   "id": "74dd8c85-0a73-4669-9119-9e76e4f89ba6",
   "metadata": {
    "tags": []
   },
   "outputs": [],
   "source": [
    "!cython -o freeze/lcmath.c freeze/lcmath.pyx"
   ]
  },
  {
   "cell_type": "markdown",
   "id": "46a654a9-d123-4796-bd58-30db0224e5bb",
   "metadata": {},
   "source": [
    "3. 编译链接转译好的c文件.需要注意在编译`.o`文件时需要指定python的头文件,在链接各个`.o`文件时需要指定python的动态连接库"
   ]
  },
  {
   "cell_type": "code",
   "execution_count": 18,
   "id": "232c9125-fd85-4b8a-a169-1165e61d5af5",
   "metadata": {
    "tags": []
   },
   "outputs": [],
   "source": [
    "!gcc -I /Users/mac/micromamba/envs/py3.10/include/python3.10 -o freeze/nCr.o -c freeze/nCr.c"
   ]
  },
  {
   "cell_type": "code",
   "execution_count": 19,
   "id": "d46539bb-3333-4469-a29f-d51d2b702fd9",
   "metadata": {
    "tags": []
   },
   "outputs": [],
   "source": [
    "!gcc -I /Users/mac/micromamba/envs/py3.10/include/python3.10 -o freeze/combinatorics.o -c freeze/combinatorics.c"
   ]
  },
  {
   "cell_type": "code",
   "execution_count": 20,
   "id": "8e1c3939-bdc1-445f-a6c7-54d43ce269ac",
   "metadata": {
    "tags": []
   },
   "outputs": [],
   "source": [
    "!gcc -I /Users/mac/micromamba/envs/py3.10/include/python3.10 -o freeze/lcmath.o -c freeze/lcmath.c"
   ]
  },
  {
   "cell_type": "code",
   "execution_count": 24,
   "id": "6d493586-e2cb-4b55-aa2b-b972ef2d68b1",
   "metadata": {
    "tags": []
   },
   "outputs": [],
   "source": [
    "!gcc -L/Users/mac/micromamba/envs/py3.10/lib -lpython3.10 freeze/nCr.o freeze/combinatorics.o freeze/lcmath.o -o nCr"
   ]
  },
  {
   "cell_type": "markdown",
   "id": "50400549-ba06-41eb-aeb5-8df275fccfdd",
   "metadata": {},
   "source": [
    "4. 测试使用可执行文件.\n",
    "\n",
    "在使用前我们需要先加载python的动态链接库,当然也可以将python动态链接库的查找地址直接写进环境变量`LD_LIBRARY_PATH`中"
   ]
  },
  {
   "cell_type": "code",
   "execution_count": 27,
   "id": "74fd78e1-1f31-4330-bc72-8fa8ceafebd9",
   "metadata": {
    "tags": []
   },
   "outputs": [
    {
     "name": "stdout",
     "output_type": "stream",
     "text": [
      "USAGE: ./nCr n r\n",
      "Prints n-choose-r.\n"
     ]
    }
   ],
   "source": [
    "!export LD_LIBRARY_PATH=\"/Users/mac/micromamba/envs/py3.10/lib\" && ./nCr"
   ]
  },
  {
   "cell_type": "code",
   "execution_count": 28,
   "id": "ebc4cca6-48af-4f96-a868-8a7f63d4d6fd",
   "metadata": {
    "tags": []
   },
   "outputs": [
    {
     "name": "stdout",
     "output_type": "stream",
     "text": [
      "5.100280939988478e+113\n"
     ]
    }
   ],
   "source": [
    "!export LD_LIBRARY_PATH=\"/Users/mac/micromamba/envs/py3.10/lib\" && ./nCr 15812351235 12"
   ]
  },
  {
   "cell_type": "markdown",
   "id": "91c91ba1-92a8-482c-ac9f-87cbdb2187db",
   "metadata": {},
   "source": [
    "### 自定义python解释器扩展\n",
    "\n",
    "如果只是构造可执行文件,cython_freeze可以说大材小用,毕竟带个python解释器基本没什么实用性.cython_freeze实际更多的是用于自定义python解释器扩展.什么是自定义python解释器扩展?通常自定义python解释器扩展就是增加业务专用的模块,全局变量,全局类型,全局函数等,具体什么样可以参考pyspark的交互环境.\n",
    "\n",
    "我们依然使用上面的例子,通过改变编译过程来将`nCr`函数嵌入自定义python解释器作为全局函数\n",
    "\n",
    "1. 转译入口c源码,这一步加入选项`--pymain`可以取消将第一个源文件的`__main__`作为入口函数的操作,这样就可以实现这一功能."
   ]
  },
  {
   "cell_type": "code",
   "execution_count": 29,
   "id": "84f947c6-127e-4604-92a3-ebbb9e35b051",
   "metadata": {
    "tags": []
   },
   "outputs": [],
   "source": [
    "!cython_freeze --pymain freeze/combinatorics.pyx freeze/lcmath.pyx -o freeze/mypython.c"
   ]
  },
  {
   "cell_type": "code",
   "execution_count": 30,
   "id": "4a4d4493-e5d9-4fbb-a6eb-ece770fea417",
   "metadata": {
    "tags": []
   },
   "outputs": [],
   "source": [
    "!gcc -I /Users/mac/micromamba/envs/py3.10/include/python3.10 -c freeze/mypython.c -o freeze/mypython.o"
   ]
  },
  {
   "cell_type": "code",
   "execution_count": 33,
   "id": "19f146b7-877b-429e-b8f1-9bf83d27fe3f",
   "metadata": {
    "tags": []
   },
   "outputs": [],
   "source": [
    "!gcc -L/Users/mac/micromamba/envs/py3.10/lib -lpython3.10 freeze/mypython.o freeze/combinatorics.o freeze/lcmath.o -o mypython"
   ]
  },
  {
   "cell_type": "markdown",
   "id": "f1567382-9d72-4437-8dc9-447854194e74",
   "metadata": {},
   "source": [
    "2. 构造一个`startup.py`文件设置启动项\n",
    "\n",
    "```python\n",
    "from combinatorics import nCr\n",
    "```\n",
    "\n",
    "3. 设置环境变量`export PYTHONSTARTUP=/Users/mac/WORKSPACE/GITHUB/BLOG/TutorialForPythonAsGlueLanguage/附录/Cython使用简介/工具链/startup.py`指定启动加载项\n",
    "\n",
    "4. 进入自定义python环境`./mypython`,执行`>>> nCr(15812351235, 12)`\n"
   ]
  },
  {
   "cell_type": "markdown",
   "id": "10cb0541-6366-4c8e-b81c-e721994ce625",
   "metadata": {},
   "source": [
    "## ipython扩展\n",
    "\n",
    "cython提供了官方的ipython扩展,使用时先试用`%load_ext cython`加载cython扩展,之后就可以使用了.官方扩展有3个"
   ]
  },
  {
   "cell_type": "code",
   "execution_count": 34,
   "id": "c3153f4d-d26a-47ba-8364-5838f0a3d146",
   "metadata": {
    "tags": []
   },
   "outputs": [],
   "source": [
    "%load_ext cython"
   ]
  },
  {
   "cell_type": "markdown",
   "id": "21f512a6-05de-4a0e-886c-3c9e030fff14",
   "metadata": {},
   "source": [
    "+ `%%cython_inline`,inline模式执行cython代码,所谓inline模式类似python中的eval,它可以使用和影响python中的变量,使用`return`就可以返回结果到output中"
   ]
  },
  {
   "cell_type": "code",
   "execution_count": 35,
   "id": "4afdbcba-1ac9-47c6-94f6-f86472c13781",
   "metadata": {
    "tags": []
   },
   "outputs": [],
   "source": [
    "a = 1\n",
    "b = 2"
   ]
  },
  {
   "cell_type": "code",
   "execution_count": 38,
   "id": "34fb9c9c-1761-462f-b8ad-ff63b57682ac",
   "metadata": {
    "tags": []
   },
   "outputs": [
    {
     "name": "stdout",
     "output_type": "stream",
     "text": [
      "Compiling /Users/mac/Library/Caches/cython/inline/_cython_inline_363a62b67df1fd37db474da6479c306c504718b8.pyx because it changed.\n",
      "[1/1] Cythonizing /Users/mac/Library/Caches/cython/inline/_cython_inline_363a62b67df1fd37db474da6479c306c504718b8.pyx\n"
     ]
    },
    {
     "name": "stderr",
     "output_type": "stream",
     "text": [
      "warning: /Users/mac/Library/Caches/cython/inline/_cython_inline_363a62b67df1fd37db474da6479c306c504718b8.pyx:7:4: Unreachable code\n"
     ]
    },
    {
     "data": {
      "text/plain": [
       "3"
      ]
     },
     "execution_count": 38,
     "metadata": {},
     "output_type": "execute_result"
    }
   ],
   "source": [
    "%%cython_inline\n",
    "\n",
    "return a+b"
   ]
  },
  {
   "cell_type": "markdown",
   "id": "4414d119-4385-4723-8793-5f8159a8bfa0",
   "metadata": {},
   "source": [
    "+ `%%cython_pyximport modulename`,将cell中的代码写入notebook同目录下以`modulename`为名的同名`.pyx`文件中,这样后续就可以使用`pyximport`导入使用了"
   ]
  },
  {
   "cell_type": "code",
   "execution_count": 39,
   "id": "0a890b1a-b578-44b7-af4b-0e1757ecd1c3",
   "metadata": {
    "tags": []
   },
   "outputs": [
    {
     "name": "stderr",
     "output_type": "stream",
     "text": [
      "/Users/mac/micromamba/envs/py3.10/lib/python3.10/site-packages/Cython/Compiler/Main.py:381: FutureWarning: Cython directive 'language_level' not set, using '3str' for now (Py3). This has changed from earlier releases! File: /Users/mac/WORKSPACE/GITHUB/BLOG/TutorialForPythonAsGlueLanguage/附录/Cython使用简介/工具链/cf.pyx\n",
      "  tree = Parsing.p_module(s, pxd, full_module_name)\n"
     ]
    }
   ],
   "source": [
    "%%cython_pyximport cf\n",
    "def f(x):\n",
    "    return 2.0*x"
   ]
  },
  {
   "cell_type": "code",
   "execution_count": 42,
   "id": "7709ecaf-9f40-49e8-ba8a-c4247bcf041d",
   "metadata": {
    "tags": []
   },
   "outputs": [
    {
     "data": {
      "text/plain": [
       "20.0"
      ]
     },
     "execution_count": 42,
     "metadata": {},
     "output_type": "execute_result"
    }
   ],
   "source": [
    "import pyximport; pyximport.install()\n",
    "import cf\n",
    "cf.f(10)"
   ]
  },
  {
   "cell_type": "markdown",
   "id": "d07c764a-d3db-4add-8047-1dc0cc42f68a",
   "metadata": {},
   "source": [
    "+ `%%cython`,通用的cython工具,可以使用参数设置编译选项,主要的选项有:\n",
    "    + `--cplus`,转译为c++而非c\n",
    "    + `-2`/`-3`,指定使用的python语法版本\n",
    "    + `-c`,指定传给编译器的选项,比如`-c=-Wno-unreachable-code`\n",
    "    + `-l`,指定要连接的动态/静态链接库\n",
    "    + `-L`,指定要连接的动态/静态链接库所在文件夹\n",
    "    + `-I`,指定要连接的动态/静态链接库头文件所在文件夹\n",
    "    + `-S`,指定要连接的源文件\n",
    "\n",
    "需要注意`%%cython`无法获取上下文中python的变量,而且不同块的`%%cython`块之间也无法共享命名空间,因此一般是用来定义函数,然后再在外面调用这些cython函数."
   ]
  },
  {
   "cell_type": "code",
   "execution_count": 46,
   "id": "297409ed-c1ff-481c-b897-8866e887c509",
   "metadata": {
    "tags": []
   },
   "outputs": [],
   "source": [
    "%%cython -3 --cplus\n",
    "\n",
    "def f2(x):\n",
    "    return 2.0*x"
   ]
  },
  {
   "cell_type": "code",
   "execution_count": 47,
   "id": "97eacc5d-7072-4009-80d3-474834c4f2e2",
   "metadata": {
    "tags": []
   },
   "outputs": [
    {
     "data": {
      "text/plain": [
       "2.0"
      ]
     },
     "execution_count": 47,
     "metadata": {},
     "output_type": "execute_result"
    }
   ],
   "source": [
    "f2(a)"
   ]
  },
  {
   "cell_type": "code",
   "execution_count": 49,
   "id": "09362369-1250-4ea9-9061-82a92ff08b95",
   "metadata": {
    "tags": []
   },
   "outputs": [
    {
     "name": "stderr",
     "output_type": "stream",
     "text": [
      "\n",
      "Error compiling Cython file:\n",
      "------------------------------------------------------------\n",
      "...\n",
      "\n",
      "f2(a)\n",
      "^\n",
      "------------------------------------------------------------\n",
      "\n",
      "/Users/mac/.cache/ipython/cython/_cython_magic_8b55e1d58827f111c1e0d1c38d8cd196b08a93f3.pyx:2:0: undeclared name not builtin: f2\n",
      "\n",
      "Error compiling Cython file:\n",
      "------------------------------------------------------------\n",
      "...\n",
      "\n",
      "f2(a)\n",
      "   ^\n",
      "------------------------------------------------------------\n",
      "\n",
      "/Users/mac/.cache/ipython/cython/_cython_magic_8b55e1d58827f111c1e0d1c38d8cd196b08a93f3.pyx:2:3: undeclared name not builtin: a\n"
     ]
    }
   ],
   "source": [
    "%%cython -3 --cplus\n",
    "\n",
    "f2(a)"
   ]
  }
 ],
 "metadata": {
  "kernelspec": {
   "display_name": "Python 3 (ipykernel)",
   "language": "python",
   "name": "python3"
  },
  "language_info": {
   "codemirror_mode": {
    "name": "ipython",
    "version": 3
   },
   "file_extension": ".py",
   "mimetype": "text/x-python",
   "name": "python",
   "nbconvert_exporter": "python",
   "pygments_lexer": "ipython3",
   "version": "3.10.12"
  }
 },
 "nbformat": 4,
 "nbformat_minor": 5
}
